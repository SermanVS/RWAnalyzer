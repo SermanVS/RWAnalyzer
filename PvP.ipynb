{
 "cells": [
  {
   "cell_type": "code",
   "execution_count": 17,
   "metadata": {},
   "outputs": [],
   "source": [
    "import pandas as pd\n",
    "import numpy as np\n",
    "import matplotlib.pyplot as plt\n",
    "import scipy.stats as st\n",
    "import math\n",
    "import seaborn as sns"
   ]
  },
  {
   "cell_type": "code",
   "execution_count": 6,
   "metadata": {},
   "outputs": [],
   "source": [
    "games = pd.read_excel('Results.xlsx', sheet_name='Games')\n",
    "turns = pd.read_excel('Results.xlsx', sheet_name='Turns')\n",
    "pvp_games = games.query('GameState == \"END\" and idPerson1 not in [10, 30, 203, 217] and idPerson2 not in [10, 30, 203, 217]')\n",
    "pvp_games_ids = pvp_games['idGame']"
   ]
  },
  {
   "cell_type": "code",
   "execution_count": 377,
   "metadata": {},
   "outputs": [],
   "source": [
    "pvp_games_turns = []\n",
    "pvp_games_states = []\n",
    "for i in pvp_games_ids:\n",
    "    pvp_game_i_turns = turns.query('Games_idGame == ' + str(i))\n",
    "    for state in pvp_game_i_turns['State']:\n",
    "        pvp_games_states.append(state)\n",
    "    if max(pvp_game_i_turns['idTurn']) < 1000:\n",
    "        pvp_games_turns.append(max(pvp_game_i_turns['idTurn']))"
   ]
  },
  {
   "cell_type": "code",
   "execution_count": 670,
   "metadata": {},
   "outputs": [],
   "source": [
    "def digitalize_states(series):\n",
    "    states = []\n",
    "    for point in series:\n",
    "        point = point[1:]\n",
    "        point = point[:-1]\n",
    "        point = point.split(\",\")\n",
    "        x = int(point[0])\n",
    "        y = int(point[1])\n",
    "        pair = (x, y)\n",
    "        states.append(pair)\n",
    "    return states"
   ]
  },
  {
   "cell_type": "code",
   "execution_count": 671,
   "metadata": {},
   "outputs": [],
   "source": [
    "def is_close(state1, state2):\n",
    "    (x1, y1) = (state1[0], state1[1])\n",
    "    (x2, y2) = state2\n",
    "    if (abs(x1 - x2) + abs(y1 - y2) == 1):\n",
    "        return True\n",
    "    else:\n",
    "        return False"
   ]
  },
  {
   "cell_type": "code",
   "execution_count": 688,
   "metadata": {},
   "outputs": [],
   "source": [
    "def get_prob_matrix(N, pvp_games_states):\n",
    "    states = digitalize_states(pvp_games_states)   \n",
    "    frequencies = np.zeros((N**2, N**2))\n",
    "    for i in range(1, len(states)):\n",
    "        if (is_close(states[i], states[i-1])):\n",
    "            frequencies[(N-2) * states[i-1][0] + states[i-1][1], (N-2) * states[i][0] + states[i][1]] +=1\n",
    "    for i in range (0, frequencies.shape[0]):\n",
    "        if (sum(frequencies[i]) != 0):\n",
    "            frequencies[i] /= sum(frequencies[i])\n",
    "    frequencies = frequencies[N:]\n",
    "    frequencies = frequencies[:-N]\n",
    "    frequencies = frequencies[:, N:]\n",
    "    frequencies = frequencies[:, :-N]\n",
    "    return frequencies"
   ]
  },
  {
   "cell_type": "code",
   "execution_count": null,
   "metadata": {},
   "outputs": [],
   "source": [
    "def get_prob_matrix_symmetry(N, pvp_games_states):\n",
    "    states = digitalize_states(pvp_games_states)   \n",
    "    frequencies = np.zeros((N**2, N**2))"
   ]
  },
  {
   "cell_type": "code",
   "execution_count": 689,
   "metadata": {},
   "outputs": [],
   "source": [
    "def get_fundamental_matrix(Q):\n",
    "    return np.linalg.inv(np.eye(Q.shape[0]) - Q)"
   ]
  },
  {
   "cell_type": "code",
   "execution_count": 695,
   "metadata": {},
   "outputs": [],
   "source": [
    "def get_mean_time(fundamental_matrix):\n",
    "    c = np.ones(fundamental_matrix.shape[0])\n",
    "    mean_times = fundamental_matrix @ c\n",
    "    N = round(math.sqrt(fundamental_matrix.shape[0]))\n",
    "    return mean_times[N * (N // 2) + N // 2]"
   ]
  },
  {
   "cell_type": "code",
   "execution_count": 697,
   "metadata": {},
   "outputs": [
    {
     "name": "stdout",
     "output_type": "stream",
     "text": [
      "119.25619548594251\n"
     ]
    }
   ],
   "source": [
    "N = 16\n",
    "\n",
    "probability_matrix = get_prob_matrix(N, pvp_games_states)\n",
    "fundamental_matrix = get_fundamental_matrix(probability_matrix)\n",
    "mean_time = get_mean_time(fundamental_matrix)\n",
    "print(mean_time)"
   ]
  },
  {
   "cell_type": "code",
   "execution_count": 694,
   "metadata": {},
   "outputs": [],
   "source": [
    "with open(\"q.csv\",\"w+\") as my_csv:\n",
    "    csvWriter = csv.writer(my_csv,delimiter=',')\n",
    "    csvWriter.writerows(probability_matrix)\n",
    "    \n",
    "with open(\"fundamental.csv\",\"w+\") as my_csv:\n",
    "    csvWriter = csv.writer(my_csv,delimiter=',')\n",
    "    csvWriter.writerows(fundamental_matrix)\n"
   ]
  },
  {
   "cell_type": "code",
   "execution_count": null,
   "metadata": {},
   "outputs": [],
   "source": []
  },
  {
   "cell_type": "code",
   "execution_count": null,
   "metadata": {},
   "outputs": [],
   "source": []
  },
  {
   "cell_type": "code",
   "execution_count": null,
   "metadata": {},
   "outputs": [],
   "source": []
  },
  {
   "cell_type": "code",
   "execution_count": null,
   "metadata": {},
   "outputs": [],
   "source": []
  },
  {
   "cell_type": "code",
   "execution_count": null,
   "metadata": {},
   "outputs": [],
   "source": []
  },
  {
   "cell_type": "code",
   "execution_count": null,
   "metadata": {},
   "outputs": [],
   "source": []
  },
  {
   "cell_type": "code",
   "execution_count": null,
   "metadata": {},
   "outputs": [],
   "source": []
  }
 ],
 "metadata": {
  "kernelspec": {
   "display_name": "Python 3",
   "language": "python",
   "name": "python3"
  },
  "language_info": {
   "codemirror_mode": {
    "name": "ipython",
    "version": 3
   },
   "file_extension": ".py",
   "mimetype": "text/x-python",
   "name": "python",
   "nbconvert_exporter": "python",
   "pygments_lexer": "ipython3",
   "version": "3.7.4"
  }
 },
 "nbformat": 4,
 "nbformat_minor": 2
}
