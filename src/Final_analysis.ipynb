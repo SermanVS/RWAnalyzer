{
 "cells": [
  {
   "cell_type": "code",
   "execution_count": 1,
   "id": "de7b94ab",
   "metadata": {},
   "outputs": [],
   "source": [
    "import pandas as pd\n",
    "import numpy as np\n",
    "import matplotlib.pyplot as plt\n",
    "import scipy.stats as st\n",
    "import seaborn as sns\n",
    "from matplotlib.colors import LogNorm\n",
    "import csv"
   ]
  },
  {
   "cell_type": "code",
   "execution_count": 2,
   "id": "ab70cc87",
   "metadata": {},
   "outputs": [],
   "source": [
    "from model_pvp import model_pvp\n",
    "from generate_distribution import generate_distribution\n",
    "from make_prob_matrix import make_prob_matrix\n",
    "from get_fundamental_matrix import get_fundamental_matrix\n",
    "from get_mean_time import get_mean_time\n",
    "from get_border_cases import get_border_cases"
   ]
  },
  {
   "cell_type": "code",
   "execution_count": 3,
   "id": "875480ed",
   "metadata": {},
   "outputs": [],
   "source": [
    "from digitalize_states import digitalize_states\n",
    "import get_games_strategy"
   ]
  },
  {
   "cell_type": "code",
   "execution_count": 4,
   "id": "9b7a68c1",
   "metadata": {},
   "outputs": [],
   "source": [
    "N = 16\n",
    "\n",
    "counts_pvp = np.load('../data/qr_counts_pvp.npy')\n",
    "counts_pvp_400 = np.load('../data/qr_counts_pvp_400.npy')\n",
    "counts_pve_border = np.load('../data/qr_counts_pve_border.npy')\n",
    "counts_pve_center = np.load('../data/qr_counts_pve_center.npy')\n",
    "\n",
    "qr_pve_border = np.load('../data/qr_pve_border.npy')\n",
    "qr_pve_center = np.load('../data/qr_pve_center.npy')\n",
    "qr_pvp = np.load('../data/qr_pvp.npy')\n",
    "qr_pvp_400 = np.load('../data/qr_pvp_400.npy')\n",
    "\n",
    "strategy_pve_center = np.load('../data/strategy_pve_center.npy')\n",
    "strategy_pve_border = np.load('../data/strategy_pve_border.npy')\n",
    "strategy_random = np.ones ((N + 1, N + 1), dtype=np.float64) * 0.5\n",
    "\n",
    "strategy_pvp_border = np.load('../data/strategy_pvp_border.npy')\n",
    "strategy_pvp_center = np.load('../data/strategy_pvp_center.npy')\n",
    "\n",
    "strategy_pvp_400_border = np.load('../data/strategy_pvp_400_border.npy')\n",
    "strategy_pvp_400_center = np.load('../data/strategy_pvp_400_center.npy')\n",
    "\n",
    "strategy_pve_border_optimal = np.zeros ((N + 1, N + 1), dtype=np.float64)\n",
    "strategy_pve_center_optimal = np.zeros ((N + 1, N + 1), dtype=np.float64)\n",
    "strategy_pve_center_optimal = \\\n",
    "    np.diag(np.ones(N + 1) * 0.5) + \\\n",
    "    np.diag(np.ones(N), -1) + \\\n",
    "    np.diag(np.zeros(N), +1)\n",
    "strategy_pve_center_optimal = strategy_pve_center_optimal.T\n",
    "\n",
    "strategy_pve_center_optimal_2d = np.zeros ((N + 1, N + 1), dtype=np.float64)\n",
    "strategy_pve_center_optimal_2d[1:N, 1] = 1\n",
    "#strategy_pve_center_optimal_2d[:, N - 1] = 1\n",
    "#strategy_pve_center_optimal_2d[1, :] = 1\n",
    "strategy_pve_center_optimal_2d[N - 1, 1:N] = 1\n",
    "strategy_pve_center_optimal_2d = strategy_pve_center_optimal_2d.T\n",
    "\n",
    "qr_bvb, probabilities = make_prob_matrix(N, strategy_random, strategy_random)\n",
    "\n",
    "qr_pve_border_pure, probabilities = make_prob_matrix(N, strategy_random, strategy_pve_border)\n",
    "qr_pve_center_pure, probabilities = make_prob_matrix(N, strategy_pve_center, strategy_random)\n",
    "qr_pvp_pure, probabilities = make_prob_matrix(N, strategy_pvp_center, strategy_pvp_border)\n",
    "qr_pvp_400_pure, probabilities = make_prob_matrix(N, strategy_pvp_400_center, strategy_pvp_400_border)\n",
    "\n",
    "qr_pve_border_optimal, probabilities = make_prob_matrix(N, strategy_random, strategy_pve_border_optimal)\n",
    "qr_pve_center_optimal, probabilities = make_prob_matrix(N, strategy_pve_center_optimal, strategy_random)\n",
    "qr_pve_center_optimal_2d, probabilities = make_prob_matrix(N, strategy_pve_center_optimal_2d, strategy_random)"
   ]
  },
  {
   "cell_type": "code",
   "execution_count": 12,
   "id": "54931d01",
   "metadata": {},
   "outputs": [],
   "source": [
    "def qr_to_probabilities(qr, N):\n",
    "    frequencies = qr.copy()\n",
    "    border = get_border_cases(N)\n",
    "    for i in np.arange(len(border)-1, -1, step = -1):\n",
    "        frequencies = np.delete(frequencies, border[i], axis = 0)\n",
    "        frequencies = np.delete(frequencies, border[i], axis = 1)\n",
    "    return frequencies"
   ]
  },
  {
   "cell_type": "code",
   "execution_count": 103,
   "id": "0b12f7e9",
   "metadata": {},
   "outputs": [
    {
     "data": {
      "text/plain": [
       "<matplotlib.image.AxesImage at 0x159194f3848>"
      ]
     },
     "execution_count": 103,
     "metadata": {},
     "output_type": "execute_result"
    },
    {
     "data": {
      "image/png": "[encoded data removed]",
      "text/plain": [
       "<Figure size 432x288 with 1 Axes>"
      ]
     },
     "metadata": {
      "needs_background": "light"
     },
     "output_type": "display_data"
    }
   ],
   "source": [
    "plt.imshow(strategy_pve_center_optimal_2d.T)"
   ]
  },
  {
   "cell_type": "code",
   "execution_count": 84,
   "id": "9cf9ee41",
   "metadata": {},
   "outputs": [
    {
     "data": {
      "text/plain": [
       "0.0"
      ]
     },
     "execution_count": 84,
     "metadata": {},
     "output_type": "execute_result"
    }
   ],
   "source": [
    "x, y = 8, 9\n",
    "qr_pve_center_optimal[(N+1) * x + y, (N+1) * (x - 0) + (y + 1)]"
   ]
  },
  {
   "cell_type": "code",
   "execution_count": 6,
   "id": "d7b6fc58",
   "metadata": {},
   "outputs": [],
   "source": [
    "qrs = {\n",
    "    'pve_border': qr_pve_border,\n",
    "    'pve_center': qr_pve_center,\n",
    "    'bvb': qr_bvb,\n",
    "    'pve_border_pure': qr_pve_border_pure,\n",
    "    'pve_center_pure': qr_pve_center_pure,\n",
    "    'pvp': qr_pvp,\n",
    "    'pvp_pure': qr_pvp_pure,\n",
    "    'pvp_400': qr_pvp_400,\n",
    "    'pvp_400_pure': qr_pvp_400_pure,\n",
    "    'pve_border_optimal': qr_pve_border_optimal,\n",
    "    'pve_center_optimal': qr_pve_center_optimal,\n",
    "    'pve_center_optimal_2d': qr_pve_center_optimal_2d,\n",
    "}"
   ]
  },
  {
   "cell_type": "markdown",
   "id": "1df0180f",
   "metadata": {},
   "source": [
    "# Modelling"
   ]
  },
  {
   "cell_type": "code",
   "execution_count": 13,
   "id": "aa94a2e4",
   "metadata": {},
   "outputs": [],
   "source": [
    "num_steps = 10000\n",
    "turns = np.arange(0, num_steps + 1)\n",
    "probs = {'turns': turns}\n",
    "stats = {}\n",
    "for name, qr in qrs.items():\n",
    "    probability_matrix = qr_to_probabilities(qr, N)\n",
    "    fundamental_matrix = get_fundamental_matrix(probability_matrix)\n",
    "    mean_time = get_mean_time(N - 1, fundamental_matrix)\n",
    "    stats['amc_' + name] = {'even': 'NA', 'odd': 'NA', 'mean_time': mean_time}\n",
    "    \n",
    "    d, prob, (even, odd) = model_pvp(N, qr, num_steps=num_steps)\n",
    "    mean_time = np.dot(prob, turns)\n",
    "    probs['model_' + name] = prob\n",
    "    stats['model_' + name] = {'even': even, 'odd': odd, 'mean_time': mean_time}\n",
    "    "
   ]
  },
  {
   "cell_type": "code",
   "execution_count": 14,
   "id": "d6e41f20",
   "metadata": {},
   "outputs": [
    {
     "data": {
      "text/plain": [
       "{'amc_pve_border': {'even': 'NA', 'odd': 'NA', 'mean_time': 71.11610486891385},\n",
       " 'model_pve_border': {'even': 0.5131086142322095,\n",
       "  'odd': 0.48689138576778945,\n",
       "  'mean_time': 71.11610486891385},\n",
       " 'amc_pve_center': {'even': 'NA',\n",
       "  'odd': 'NA',\n",
       "  'mean_time': 145.44886363636346},\n",
       " 'model_pve_center': {'even': 0.3049242424242409,\n",
       "  'odd': 0.6950757575757576,\n",
       "  'mean_time': 145.44886363636337},\n",
       " 'amc_bvb': {'even': 'NA', 'odd': 'NA', 'mean_time': 75.20846497681381},\n",
       " 'model_bvb': {'even': 0.4957689733196263,\n",
       "  'odd': 0.5042310266803719,\n",
       "  'mean_time': 75.2084649768138},\n",
       " 'amc_pve_border_pure': {'even': 'NA',\n",
       "  'odd': 'NA',\n",
       "  'mean_time': 73.79268566819664},\n",
       " 'model_pve_border_pure': {'even': 0.5122443535433675,\n",
       "  'odd': 0.48775564645663017,\n",
       "  'mean_time': 73.7926856681966},\n",
       " 'amc_pve_center_pure': {'even': 'NA',\n",
       "  'odd': 'NA',\n",
       "  'mean_time': 145.84942916972528},\n",
       " 'model_pve_center_pure': {'even': 0.3035013989275322,\n",
       "  'odd': 0.6964986010724641,\n",
       "  'mean_time': 145.84942916972517},\n",
       " 'amc_pvp': {'even': 'NA', 'odd': 'NA', 'mean_time': 120.59919839679375},\n",
       " 'model_pvp': {'even': 0.3527054108216414,\n",
       "  'odd': 0.647294589178356,\n",
       "  'mean_time': 120.59919839679361},\n",
       " 'amc_pvp_pure': {'even': 'NA', 'odd': 'NA', 'mean_time': 116.21676766236774},\n",
       " 'model_pvp_pure': {'even': 0.3634039729644691,\n",
       "  'odd': 0.6365960270355299,\n",
       "  'mean_time': 116.21676766236779},\n",
       " 'amc_pvp_400': {'even': 'NA', 'odd': 'NA', 'mean_time': 597.6153846153867},\n",
       " 'model_pvp_400': {'even': 0.15384615130599102,\n",
       "  'odd': 0.8461538323247217,\n",
       "  'mean_time': 597.6152118280573},\n",
       " 'amc_pvp_400_pure': {'even': 'NA',\n",
       "  'odd': 'NA',\n",
       "  'mean_time': 133.22134058432778},\n",
       " 'model_pvp_400_pure': {'even': 0.31395555169086575,\n",
       "  'odd': 0.68604444830913,\n",
       "  'mean_time': 133.2213405843279},\n",
       " 'amc_pve_border_optimal': {'even': 'NA',\n",
       "  'odd': 'NA',\n",
       "  'mean_time': 63.99999999999999},\n",
       " 'model_pve_border_optimal': {'even': 0.9999999999999986,\n",
       "  'odd': 0.0,\n",
       "  'mean_time': 64.00000000000001},\n",
       " 'amc_pve_center_optimal': {'even': 'NA',\n",
       "  'odd': 'NA',\n",
       "  'mean_time': 224.9999999999992},\n",
       " 'model_pve_center_optimal': {'even': 0.0,\n",
       "  'odd': 0.9999999999999922,\n",
       "  'mean_time': 224.9999999999999},\n",
       " 'amc_pve_center_optimal_2d': {'even': 'NA', 'odd': 'NA', 'mean_time': 225.0},\n",
       " 'model_pve_center_optimal_2d': {'even': 0.0,\n",
       "  'odd': 0.9999999999999923,\n",
       "  'mean_time': 224.99999999999994}}"
      ]
     },
     "execution_count": 14,
     "metadata": {},
     "output_type": "execute_result"
    }
   ],
   "source": [
    "stats"
   ]
  },
  {
   "cell_type": "markdown",
   "id": "7738551e",
   "metadata": {},
   "source": [
    "# Simulations"
   ]
  },
  {
   "cell_type": "code",
   "execution_count": 40,
   "id": "d97f5679",
   "metadata": {},
   "outputs": [
    {
     "name": "stderr",
     "output_type": "stream",
     "text": [
      "100%|████████████████████████████████████████████████████████████████████████| 100000/100000 [00:21<00:00, 4589.17it/s]\n",
      "100%|████████████████████████████████████████████████████████████████████████| 100000/100000 [00:43<00:00, 2275.42it/s]\n",
      "100%|████████████████████████████████████████████████████████████████████████| 100000/100000 [00:22<00:00, 4447.33it/s]\n",
      "100%|████████████████████████████████████████████████████████████████████████| 100000/100000 [00:22<00:00, 4467.39it/s]\n",
      "100%|████████████████████████████████████████████████████████████████████████| 100000/100000 [00:44<00:00, 2272.10it/s]\n",
      "100%|████████████████████████████████████████████████████████████████████████| 100000/100000 [00:36<00:00, 2751.92it/s]\n",
      "100%|████████████████████████████████████████████████████████████████████████| 100000/100000 [00:35<00:00, 2857.12it/s]\n",
      "100%|█████████████████████████████████████████████████████████████████████████| 100000/100000 [03:00<00:00, 554.51it/s]\n",
      "100%|████████████████████████████████████████████████████████████████████████| 100000/100000 [00:40<00:00, 2459.94it/s]\n",
      "100%|████████████████████████████████████████████████████████████████████████| 100000/100000 [00:18<00:00, 5537.95it/s]\n",
      "100%|████████████████████████████████████████████████████████████████████████| 100000/100000 [01:05<00:00, 1515.84it/s]\n",
      "100%|████████████████████████████████████████████████████████████████████████| 100000/100000 [01:05<00:00, 1516.67it/s]\n"
     ]
    }
   ],
   "source": [
    "turn_bins = np.arange(0, len(prob) + 1)\n",
    "for name, qr in qrs.items():\n",
    "    gen_turns = generate_distribution(N, qr, return_games=False)\n",
    "    prob_gen, _ = np.histogram(gen_turns, bins=turn_bins, density=True)\n",
    "    odd = np.mean(np.array(gen_turns) % 2)\n",
    "    even = 1 - odd\n",
    "    mean_time = np.mean(gen_turns)\n",
    "    probs['simulation_' + name] = prob_gen\n",
    "    stats['simulation_' + name] = {'even': even, 'odd': odd, 'mean_time': mean_time}"
   ]
  },
  {
   "cell_type": "markdown",
   "id": "aa4ea9c0",
   "metadata": {},
   "source": [
    "# Experiment"
   ]
  },
  {
   "cell_type": "code",
   "execution_count": 35,
   "id": "a0504d96",
   "metadata": {},
   "outputs": [],
   "source": [
    "pvp_pmf = np.load('../data/experiment_pvp_pmf.npy')\n",
    "pvp_400_pmf = np.load('../data/experiment_pvp_400_pmf.npy')\n",
    "pve_border_pmf = np.load('../data/experiment_pve_border_pmf.npy')\n",
    "pve_center_pmf = np.load('../data/experiment_pve_center_pmf.npy')\n",
    "\n",
    "pmfs = {\n",
    "    'pvp': pvp_pmf,\n",
    "    'pvp_400': pvp_400_pmf,\n",
    "    'pve_border': pve_border_pmf,\n",
    "    'pve_center': pve_center_pmf,\n",
    "}\n",
    "for pmf_name, pmf in pmfs.items():\n",
    "    pmf = np.pad(pmf, (0, len(turns) - len(pmf)))\n",
    "    probs['experiment_' + pmf_name] = pmf\n",
    "    mean_time = np.dot(turns, pmf)\n",
    "    even = np.sum(pmf[::2])\n",
    "    odd = np.sum(pmf[1::2])\n",
    "    stats['experiment_' + pmf_name] = {'even': even, 'odd': odd, 'mean_time': mean_time}\n"
   ]
  },
  {
   "cell_type": "code",
   "execution_count": 30,
   "id": "7c85d6a3",
   "metadata": {},
   "outputs": [
    {
     "data": {
      "text/plain": [
       "array([1, 2, 3, 0, 0, 0, 0])"
      ]
     },
     "execution_count": 30,
     "metadata": {},
     "output_type": "execute_result"
    }
   ],
   "source": []
  },
  {
   "cell_type": "code",
   "execution_count": 41,
   "id": "65ec7b1b",
   "metadata": {},
   "outputs": [],
   "source": [
    "df_time_prob = pd.DataFrame(probs)\n",
    "df_time_prob.to_excel('../data/absorption_time_pmf.xlsx')"
   ]
  },
  {
   "cell_type": "code",
   "execution_count": 42,
   "id": "fe78f0f8",
   "metadata": {},
   "outputs": [],
   "source": [
    "df_stats_prob = pd.DataFrame(stats).T\n",
    "df_stats_prob.to_excel('../data/absorption_time_stats.xlsx')"
   ]
  },
  {
   "cell_type": "code",
   "execution_count": 34,
   "id": "581b9612",
   "metadata": {},
   "outputs": [
    {
     "name": "stderr",
     "output_type": "stream",
     "text": [
      "C:\\ProgramData\\Anaconda3\\lib\\site-packages\\ipykernel_launcher.py:27: MatplotlibDeprecationWarning: Passing parameters norm and vmin/vmax simultaneously is deprecated since 3.3 and will become an error two minor releases later. Please pass vmin/vmax directly to the norm when creating it.\n"
     ]
    },
    {
     "data": {
      "text/plain": [
       "<matplotlib.colorbar.Colorbar at 0x1bc6216c248>"
      ]
     },
     "execution_count": 34,
     "metadata": {},
     "output_type": "execute_result"
    },
    {
     "data": {
      "image/png": "[encoded data removed]",
      "text/plain": [
       "<Figure size 432x288 with 2 Axes>"
      ]
     },
     "metadata": {
      "needs_background": "light"
     },
     "output_type": "display_data"
    }
   ],
   "source": [
    "def g_test(N, counts):\n",
    "    import scipy\n",
    "    import itertools\n",
    "    pvalues = np.zeros((N+1, N+1), dtype=np.float64)\n",
    "    for i, j in itertools.product(range(1, N), range(1, N)):\n",
    "        cont_table = np.array([[0, 0], [0, 0]], dtype=np.float64)\n",
    "        expected_table = np.array([[0, 0], [0, 0]], dtype=np.float64)\n",
    "        shifts     = [(-1, 0), (1, 0), (0, -1), (0, 1)]\n",
    "        strategies = [(1, 1), (0, 1), (0, 0), (1, 0)]\n",
    "        for (dx, dy), (ii, jj) in zip(shifts, strategies):\n",
    "            st = i * (N+1) + j\n",
    "            fn = (i + dx) * (N+1) + (j + dy)\n",
    "            cont_table[ii][jj] = counts[st][fn]\n",
    "        try:\n",
    "            assert(np.sum(cont_table.flatten()) > 10)\n",
    "            g, p, dof, expctd = scipy.stats.chi2_contingency(cont_table)\n",
    "        except:\n",
    "            p = 1\n",
    "            g = 0\n",
    "        pvalues[i, j] = p\n",
    "    from statsmodels.stats import multitest\n",
    "    pvalues = multitest.fdrcorrection(pvalues[1:N, 1:N].flatten())[1]\n",
    "    pvalues = pvalues.reshape(N-1, N-1)\n",
    "    return pvalues < 0.4\n",
    "import matplotlib\n",
    "pvalues = g_test(N, counts_pvp_400)\n",
    "plt.imshow(pvalues, norm=matplotlib.colors.LogNorm(), vmin=1e-3)\n",
    "plt.colorbar()"
   ]
  },
  {
   "cell_type": "code",
   "execution_count": null,
   "id": "f2dbfeeb",
   "metadata": {},
   "outputs": [],
   "source": []
  }
 ],
 "metadata": {
  "kernelspec": {
   "display_name": "Python 3",
   "language": "python",
   "name": "python3"
  },
  "language_info": {
   "codemirror_mode": {
    "name": "ipython",
    "version": 3
   },
   "file_extension": ".py",
   "mimetype": "text/x-python",
   "name": "python",
   "nbconvert_exporter": "python",
   "pygments_lexer": "ipython3",
   "version": "3.7.10"
  }
 },
 "nbformat": 4,
 "nbformat_minor": 5
}
