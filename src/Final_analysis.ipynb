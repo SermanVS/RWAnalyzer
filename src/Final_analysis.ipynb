{
 "cells": [
  {
   "cell_type": "code",
   "execution_count": 1,
   "id": "daaac65b",
   "metadata": {},
   "outputs": [],
   "source": [
    "import pandas as pd\n",
    "import numpy as np\n",
    "import matplotlib.pyplot as plt\n",
    "import scipy.stats as st\n",
    "import seaborn as sns\n",
    "from matplotlib.colors import LogNorm\n",
    "import csv"
   ]
  },
  {
   "cell_type": "code",
   "execution_count": 2,
   "id": "114acdcf",
   "metadata": {},
   "outputs": [],
   "source": [
    "from model_pvp import model_pvp\n",
    "from generate_distribution import generate_distribution\n",
    "from make_prob_matrix import make_prob_matrix"
   ]
  },
  {
   "cell_type": "code",
   "execution_count": 3,
   "id": "761fe7b1",
   "metadata": {},
   "outputs": [],
   "source": [
    "from digitalize_states import digitalize_states\n",
    "import get_games_strategy"
   ]
  },
  {
   "cell_type": "code",
   "execution_count": 54,
   "id": "dfd1416b",
   "metadata": {},
   "outputs": [
    {
     "data": {
      "text/plain": [
       "array([[0., 0., 3., 0., 0.],\n",
       "       [3., 0., 0., 0., 0.],\n",
       "       [0., 0., 0., 0., 0.],\n",
       "       [0., 0., 0., 0., 0.],\n",
       "       [0., 0., 0., 0., 0.]])"
      ]
     },
     "execution_count": 54,
     "metadata": {},
     "output_type": "execute_result"
    }
   ],
   "source": [
    "a = np.zeros((5, 5))\n",
    "a[tuple([[0, 1], [2, 0]])] = 3\n",
    "a"
   ]
  },
  {
   "cell_type": "code",
   "execution_count": 105,
   "id": "1b760b6a",
   "metadata": {},
   "outputs": [],
   "source": [
    "N = 16\n",
    "\n",
    "counts_pvp = np.load('../data/qr_counts_pvp.npy')\n",
    "counts_pvp_400 = np.load('../data/qr_counts_pvp_400.npy')\n",
    "\n",
    "qr_pve_border = np.load('../data/qr_pve_border.npy')\n",
    "qr_pve_center = np.load('../data/qr_pve_center.npy')\n",
    "qr_pvp = np.load('../data/qr_pvp.npy')\n",
    "qr_pvp_400 = np.load('../data/qr_pvp_400.npy')\n",
    "\n",
    "strategy_pve_center = np.load('../data/strategy_pve_center.npy')\n",
    "strategy_pve_border = np.load('../data/strategy_pve_border.npy')\n",
    "strategy_random = np.ones ((N + 1, N + 1), dtype=np.float64) * 0.5\n",
    "\n",
    "strategy_pvp_border = np.load('../data/strategy_pvp_border.npy')\n",
    "strategy_pvp_center = np.load('../data/strategy_pvp_center.npy')\n",
    "\n",
    "strategy_pvp_400_border = np.load('../data/strategy_pvp_400_border.npy')\n",
    "strategy_pvp_400_center = np.load('../data/strategy_pvp_400_center.npy')\n",
    "\n",
    "strategy_pve_border_optimal = np.zeros ((N + 1, N + 1), dtype=np.float64)\n",
    "strategy_pve_center_optimal = np.zeros ((N + 1, N + 1), dtype=np.float64)\n",
    "strategy_pve_center_optimal = \\\n",
    "    np.diag(np.ones(N + 1) * 0.5) + \\\n",
    "    np.diag(np.ones(N), -1) + \\\n",
    "    np.diag(np.zeros(N), +1)\n",
    "strategy_pve_center_optimal = strategy_pve_center_optimal.T\n",
    "\n",
    "strategy_pve_center_optimal_2d = np.zeros ((N + 1, N + 1), dtype=np.float64)\n",
    "strategy_pve_center_optimal_2d[1:N, 1] = 1\n",
    "#strategy_pve_center_optimal_2d[:, N - 1] = 1\n",
    "#strategy_pve_center_optimal_2d[1, :] = 1\n",
    "strategy_pve_center_optimal_2d[N - 1, 1:N] = 1\n",
    "strategy_pve_center_optimal_2d = strategy_pve_center_optimal_2d.T\n",
    "\n",
    "qr_bvb, probabilities = make_prob_matrix(N, strategy_random, strategy_random)\n",
    "qr_pve_border_pure, probabilities = make_prob_matrix(N, strategy_random, strategy_pve_border)\n",
    "qr_pve_center_pure, probabilities = make_prob_matrix(N, strategy_pve_center, strategy_random)\n",
    "qr_pvp_pure, probabilities = make_prob_matrix(N, strategy_pvp_center, strategy_pvp_border)\n",
    "qr_pvp_400_pure, probabilities = make_prob_matrix(N, strategy_pvp_400_center, strategy_pvp_400_border)\n",
    "\n",
    "qr_pve_border_optimal, probabilities = make_prob_matrix(N, strategy_random, strategy_pve_border_optimal)\n",
    "qr_pve_center_optimal, probabilities = make_prob_matrix(N, strategy_pve_center_optimal, strategy_random)\n",
    "qr_pve_center_optimal_2d, probabilities = make_prob_matrix(N, strategy_pve_center_optimal_2d, strategy_random)"
   ]
  },
  {
   "cell_type": "code",
   "execution_count": 103,
   "id": "d2274413",
   "metadata": {},
   "outputs": [
    {
     "data": {
      "text/plain": [
       "<matplotlib.image.AxesImage at 0x159194f3848>"
      ]
     },
     "execution_count": 103,
     "metadata": {},
     "output_type": "execute_result"
    },
    {
     "data": {
      "image/png": "[encoded data removed]",
      "text/plain": [
       "<Figure size 432x288 with 1 Axes>"
      ]
     },
     "metadata": {
      "needs_background": "light"
     },
     "output_type": "display_data"
    }
   ],
   "source": [
    "plt.imshow(strategy_pve_center_optimal_2d.T)"
   ]
  },
  {
   "cell_type": "code",
   "execution_count": 84,
   "id": "ff37fd9b",
   "metadata": {},
   "outputs": [
    {
     "data": {
      "text/plain": [
       "0.0"
      ]
     },
     "execution_count": 84,
     "metadata": {},
     "output_type": "execute_result"
    }
   ],
   "source": [
    "x, y = 8, 9\n",
    "qr_pve_center_optimal[(N+1) * x + y, (N+1) * (x - 0) + (y + 1)]"
   ]
  },
  {
   "cell_type": "code",
   "execution_count": 109,
   "id": "df275d7a",
   "metadata": {},
   "outputs": [],
   "source": [
    "qrs = {\n",
    "    'pve_border': qr_pve_border,\n",
    "    'pve_center': qr_pve_center,\n",
    "    'bvb': qr_bvb,\n",
    "    'pve_border_pure': qr_pve_border_pure,\n",
    "    'pve_center_pure': qr_pve_center_pure,\n",
    "    'pvp': qr_pvp,\n",
    "    'pvp_pure': qr_pvp_pure,\n",
    "    'pvp_400': qr_pvp_400,\n",
    "    'pvp_400_pure': qr_pvp_400_pure,\n",
    "    'pve_border_optimal': qr_pve_border_optimal,\n",
    "    'pve_center_optimal': qr_pve_center_optimal,\n",
    "    'pve_center_optimal_2d': qr_pve_center_optimal_2d,\n",
    "}"
   ]
  },
  {
   "cell_type": "code",
   "execution_count": 110,
   "id": "89d5121f",
   "metadata": {},
   "outputs": [],
   "source": [
    "turns = np.arange(0, len(prob))\n",
    "probs = {}\n",
    "stats = {}\n",
    "for name, qr in qrs.items():\n",
    "    d, prob, (even, odd) = model_pvp(N, qr)\n",
    "    mean_time = np.dot(prob, turns)\n",
    "    probs['model_' + name] = prob\n",
    "    stats['model_' + name] = {'even': even, 'odd': odd, 'mean_time': mean_time}"
   ]
  },
  {
   "cell_type": "code",
   "execution_count": 108,
   "id": "98af0521",
   "metadata": {},
   "outputs": [
    {
     "data": {
      "text/plain": [
       "{'model_pve_border_optimal': {'even': 0.9999999999999986,\n",
       "  'odd': 0.0,\n",
       "  'mean_time': 64.00000000000001},\n",
       " 'model_pve_center_optimal': {'even': 0.0,\n",
       "  'odd': 0.9999999999999922,\n",
       "  'mean_time': 224.9999999999999},\n",
       " 'model_pve_center_optimal_2d': {'even': 0.0,\n",
       "  'odd': 0.9999999999999923,\n",
       "  'mean_time': 224.99999999999994}}"
      ]
     },
     "execution_count": 108,
     "metadata": {},
     "output_type": "execute_result"
    }
   ],
   "source": [
    "stats"
   ]
  },
  {
   "cell_type": "code",
   "execution_count": 111,
   "id": "d60e2182",
   "metadata": {},
   "outputs": [
    {
     "name": "stderr",
     "output_type": "stream",
     "text": [
      "100%|████████████████████████████████████████████████████████████████████████| 100000/100000 [00:22<00:00, 4413.76it/s]\n",
      "100%|████████████████████████████████████████████████████████████████████████| 100000/100000 [00:46<00:00, 2168.23it/s]\n",
      "100%|████████████████████████████████████████████████████████████████████████| 100000/100000 [00:23<00:00, 4309.58it/s]\n",
      "100%|████████████████████████████████████████████████████████████████████████| 100000/100000 [00:23<00:00, 4289.76it/s]\n",
      "100%|████████████████████████████████████████████████████████████████████████| 100000/100000 [00:45<00:00, 2181.77it/s]\n",
      "100%|████████████████████████████████████████████████████████████████████████| 100000/100000 [00:38<00:00, 2603.95it/s]\n",
      "100%|████████████████████████████████████████████████████████████████████████| 100000/100000 [00:36<00:00, 2705.35it/s]\n",
      "100%|█████████████████████████████████████████████████████████████████████████| 100000/100000 [03:10<00:00, 524.18it/s]\n",
      "100%|████████████████████████████████████████████████████████████████████████| 100000/100000 [00:42<00:00, 2367.06it/s]\n",
      "100%|████████████████████████████████████████████████████████████████████████| 100000/100000 [00:18<00:00, 5315.69it/s]\n",
      "100%|████████████████████████████████████████████████████████████████████████| 100000/100000 [01:09<00:00, 1448.88it/s]\n",
      "100%|████████████████████████████████████████████████████████████████████████| 100000/100000 [01:09<00:00, 1446.05it/s]\n"
     ]
    }
   ],
   "source": [
    "turn_bins = np.arange(0, len(prob) + 1)\n",
    "for name, qr in qrs.items():\n",
    "    gen_turns = generate_distribution(N, qr, return_games=False)\n",
    "    prob_gen, _ = np.histogram(gen_turns, bins=turn_bins, density=True)\n",
    "    odd = np.mean(np.array(gen_turns) % 2)\n",
    "    even = 1 - odd\n",
    "    mean_time = np.mean(gen_turns)\n",
    "    probs['simulation_' + name] = prob_gen\n",
    "    stats['simulation_' + name] = {'even': even, 'odd': odd, 'mean_time': mean_time}"
   ]
  },
  {
   "cell_type": "code",
   "execution_count": 112,
   "id": "7758e0f7",
   "metadata": {},
   "outputs": [],
   "source": [
    "probs['turns'] = np.arange(0, len(prob))"
   ]
  },
  {
   "cell_type": "code",
   "execution_count": 113,
   "id": "4daea2d6",
   "metadata": {},
   "outputs": [],
   "source": [
    "df_time_prob = pd.DataFrame(probs)\n",
    "df_time_prob.to_excel('../data/absorption_time_pmf.xlsx')"
   ]
  },
  {
   "cell_type": "code",
   "execution_count": 117,
   "id": "3cbcc9a1",
   "metadata": {},
   "outputs": [],
   "source": [
    "df_stats_prob = pd.DataFrame(stats).T\n",
    "df_stats_prob.to_excel('../data/absorption_time_stats.xlsx')"
   ]
  },
  {
   "cell_type": "code",
   "execution_count": null,
   "id": "3ba91ffd",
   "metadata": {},
   "outputs": [],
   "source": [
    "def g_test(N, counts):\n",
    "    import scipy\n",
    "    import itertools\n",
    "    pvalues = np.zeros((N+1, N+1), dtype=np.float64)\n",
    "    for i, j in itertools.product(range(1, N), range(1, N)):\n",
    "        cont_table = np.array([[0, 0], [0, 0]], dtype=np.float64)\n",
    "        expected_table = np.array([[0, 0], [0, 0]], dtype=np.float64)\n",
    "        shifts     = [(-1, 0), (1, 0), (0, -1), (0, 1)]\n",
    "        strategies = [(1, 1), (0, 1), (0, 0), (1, 0)]\n",
    "        for (dx, dy), (ii, jj) in zip(shifts, strategies):\n",
    "            st = i * (N+1) + j\n",
    "            fn = (i + dx) * (N+1) + (j + dy)\n",
    "            cont_table[ii][jj] = counts[st][fn]\n",
    "        try:\n",
    "            g, p, dof, expctd = scipy.stats.chi2_contingency(cont_table)\n",
    "        except:\n",
    "            p = 1\n",
    "            g = 0\n",
    "        pvalues[i, j] = p\n",
    "    return pvalues\n",
    "import matplotlib\n",
    "pvalues = g_test(N, counts_pvp_400)\n",
    "plt.imshow(pvalues, norm=matplotlib.colors.LogNorm(), vmin=1e-2)\n",
    "plt.colorbar()"
   ]
  },
  {
   "cell_type": "code",
   "execution_count": null,
   "id": "d684fcab",
   "metadata": {},
   "outputs": [],
   "source": []
  }
 ],
 "metadata": {
  "kernelspec": {
   "display_name": "Python 3",
   "language": "python",
   "name": "python3"
  },
  "language_info": {
   "codemirror_mode": {
    "name": "ipython",
    "version": 3
   },
   "file_extension": ".py",
   "mimetype": "text/x-python",
   "name": "python",
   "nbconvert_exporter": "python",
   "pygments_lexer": "ipython3",
   "version": "3.7.10"
  }
 },
 "nbformat": 4,
 "nbformat_minor": 5
}
