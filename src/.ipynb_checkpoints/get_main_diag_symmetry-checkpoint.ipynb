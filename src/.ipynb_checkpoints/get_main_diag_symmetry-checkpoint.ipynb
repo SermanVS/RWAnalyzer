{
 "cells": [
  {
   "cell_type": "code",
   "execution_count": null,
   "metadata": {},
   "outputs": [],
   "source": [
    "def get_main_diag_symmetry(N, game):\n",
    "    symm_game = []\n",
    "    for state in game:\n",
    "        symm_game.append((N - state[1], N - state[0]))\n",
    "    return symm_game"
   ]
  }
 ],
 "metadata": {
  "kernelspec": {
   "display_name": "Python 3",
   "language": "python",
   "name": "python3"
  },
  "language_info": {
   "codemirror_mode": {
    "name": "ipython",
    "version": 3
   },
   "file_extension": ".py",
   "mimetype": "text/x-python",
   "name": "python",
   "nbconvert_exporter": "python",
   "pygments_lexer": "ipython3",
   "version": "3.7.4"
  }
 },
 "nbformat": 4,
 "nbformat_minor": 2
}
