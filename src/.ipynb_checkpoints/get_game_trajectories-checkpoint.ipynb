{
 "cells": [
  {
   "cell_type": "code",
   "execution_count": null,
   "metadata": {},
   "outputs": [],
   "source": [
    "def get_game_trajectories(states):\n",
    "    games = []\n",
    "    temp = []\n",
    "    i = 0\n",
    "    for i in np.arange(1, len(states)):\n",
    "        if (is_close(states[i], states[i-1])):\n",
    "            temp.append(states[i-1])\n",
    "        else:\n",
    "            temp.append(states[i-1])\n",
    "            games.append(temp)\n",
    "            temp = []\n",
    "    temp.append(states[i])\n",
    "    games.append(temp)\n",
    "    return games"
   ]
  }
 ],
 "metadata": {
  "kernelspec": {
   "display_name": "Python 3",
   "language": "python",
   "name": "python3"
  },
  "language_info": {
   "codemirror_mode": {
    "name": "ipython",
    "version": 3
   },
   "file_extension": ".py",
   "mimetype": "text/x-python",
   "name": "python",
   "nbconvert_exporter": "python",
   "pygments_lexer": "ipython3",
   "version": "3.7.4"
  }
 },
 "nbformat": 4,
 "nbformat_minor": 2
}
