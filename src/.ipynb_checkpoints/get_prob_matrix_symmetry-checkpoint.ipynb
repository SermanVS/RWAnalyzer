{
 "cells": [
  {
   "cell_type": "code",
   "execution_count": null,
   "metadata": {},
   "outputs": [],
   "source": [
    "def get_prob_matrix_symmetry(N, games_states):\n",
    "    states = digitalize_states(games_states)   \n",
    "    frequencies = np.zeros(((N+1)**2, (N+1)**2))\n",
    "    states = digitalize_states(games_states)\n",
    "    states_symm = convert_games2states(get_all_games(N, get_game_trajectories(states)))\n",
    "    \n",
    "    for i in range(1, len(states_symm)):\n",
    "        if (is_close(states_symm[i], states_symm[i-1])):\n",
    "            frequencies[(N+1) * states_symm[i-1][0] + states_symm[i-1][1], \n",
    "                        (N+1) * states_symm[i][0] + states_symm[i][1]] +=1\n",
    "    for i in range (0, frequencies.shape[0]):\n",
    "        if (sum(frequencies[i]) != 0):\n",
    "            frequencies[i] /= sum(frequencies[i])\n",
    "    qr = frequencies \n",
    "    border = get_border_cases(N)\n",
    "    for i in np.arange(len(border)-1, -1, step = -1):\n",
    "        frequencies = np.delete(frequencies, border[i], axis = 0)\n",
    "        frequencies = np.delete(frequencies, border[i], axis = 1)\n",
    "    return qr, frequencies"
   ]
  }
 ],
 "metadata": {
  "kernelspec": {
   "display_name": "Python 3",
   "language": "python",
   "name": "python3"
  },
  "language_info": {
   "codemirror_mode": {
    "name": "ipython",
    "version": 3
   },
   "file_extension": ".py",
   "mimetype": "text/x-python",
   "name": "python",
   "nbconvert_exporter": "python",
   "pygments_lexer": "ipython3",
   "version": "3.7.4"
  }
 },
 "nbformat": 4,
 "nbformat_minor": 2
}
