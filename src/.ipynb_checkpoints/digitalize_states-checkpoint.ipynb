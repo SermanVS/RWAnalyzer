{
 "cells": [
  {
   "cell_type": "code",
   "execution_count": null,
   "metadata": {},
   "outputs": [],
   "source": [
    "def digitalize_states(series):\n",
    "    states = []\n",
    "    for point in series:\n",
    "        point = point[1:-1]\n",
    "        point = point.split(\",\")\n",
    "        x = int(point[0])\n",
    "        y = int(point[1])\n",
    "        pair = (x, y)\n",
    "        states.append(pair)\n",
    "    return states"
   ]
  }
 ],
 "metadata": {
  "kernelspec": {
   "display_name": "Python 3",
   "language": "python",
   "name": "python3"
  },
  "language_info": {
   "codemirror_mode": {
    "name": "ipython",
    "version": 3
   },
   "file_extension": ".py",
   "mimetype": "text/x-python",
   "name": "python",
   "nbconvert_exporter": "python",
   "pygments_lexer": "ipython3",
   "version": "3.7.4"
  }
 },
 "nbformat": 4,
 "nbformat_minor": 2
}
