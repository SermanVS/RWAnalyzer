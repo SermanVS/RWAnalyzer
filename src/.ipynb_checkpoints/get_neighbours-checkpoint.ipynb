{
 "cells": [
  {
   "cell_type": "code",
   "execution_count": null,
   "metadata": {},
   "outputs": [],
   "source": [
    "def get_neighbours(state):\n",
    "    neighbours = [(state[0] - 1, state[1]),\n",
    "                  (state[0] + 1, state[1]),\n",
    "                  (state[0], state[1] + 1),\n",
    "                  (state[0], state[1] - 1)]\n",
    "    return neighbours"
   ]
  }
 ],
 "metadata": {
  "kernelspec": {
   "display_name": "Python 3",
   "language": "python",
   "name": "python3"
  },
  "language_info": {
   "codemirror_mode": {
    "name": "ipython",
    "version": 3
   },
   "file_extension": ".py",
   "mimetype": "text/x-python",
   "name": "python",
   "nbconvert_exporter": "python",
   "pygments_lexer": "ipython3",
   "version": "3.7.4"
  }
 },
 "nbformat": 4,
 "nbformat_minor": 2
}
