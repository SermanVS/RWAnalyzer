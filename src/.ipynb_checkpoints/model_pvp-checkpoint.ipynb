{
 "cells": [
  {
   "cell_type": "code",
   "execution_count": null,
   "metadata": {},
   "outputs": [],
   "source": [
    "def model_pvp(n, qr):\n",
    "    a = np.zeros((n + 1, n + 1), dtype = np.int64).tolist()\n",
    "    a[n // 2][n // 2] = 1\n",
    "    b = []\n",
    "    m = 10000\n",
    "    \n",
    "    for k in range(m + 1):\n",
    "        b += [a]\n",
    "        c = [[0] * (n + 1) for i in range(n + 1)]\n",
    "        for i in range(1, n):\n",
    "            for j in range(1, n):\n",
    "                if i < n:\n",
    "                    c[i + 1][j] += qr[(n + 1) * i + j, (n + 1) * (i + 1) + (j + 0)] * a[i][j]\n",
    "                if j < n:             \n",
    "                    c[i][j + 1] += qr[(n + 1) * i + j, (n + 1) * (i + 0) + (j + 1)] * a[i][j]\n",
    "                if i > 0:\n",
    "                    c[i - 1][j] += qr[(n + 1) * i + j, (n + 1) * (i - 1) + (j - 0)] * a[i][j]\n",
    "                if j > 0:\n",
    "                    c[i][j - 1] += qr[(n + 1) * i + j, (n + 1) * (i - 0) + (j - 1)] * a[i][j]           \n",
    "        a = c\n",
    "    d = []\n",
    "    prob = []\n",
    "    for k in range(m + 1):\n",
    "        res = 0\n",
    "        for i in range(n + 1):\n",
    "            res += b[k][i][0] + b[k][0][i] + b[k][-1][i] + b[k][i][-1]    \n",
    "        d += [(k - 0) * res]\n",
    "        \n",
    "    even = 0\n",
    "    odd = 0\n",
    "    b = np.array(b)\n",
    "    for k in range (m + 1):\n",
    "        val = b[k, :, 0] + b[k, :, -1] + b[k, 0, :] + b[k, -1, :]\n",
    "        if (k % 2 == 0):\n",
    "            even += sum(val)\n",
    "        else:\n",
    "            odd += sum(val)\n",
    "        prob.append(sum(val))\n",
    "    return d, prob, (even, odd)"
   ]
  }
 ],
 "metadata": {
  "kernelspec": {
   "display_name": "Python 3",
   "language": "python",
   "name": "python3"
  },
  "language_info": {
   "codemirror_mode": {
    "name": "ipython",
    "version": 3
   },
   "file_extension": ".py",
   "mimetype": "text/x-python",
   "name": "python",
   "nbconvert_exporter": "python",
   "pygments_lexer": "ipython3",
   "version": "3.7.4"
  }
 },
 "nbformat": 4,
 "nbformat_minor": 2
}
