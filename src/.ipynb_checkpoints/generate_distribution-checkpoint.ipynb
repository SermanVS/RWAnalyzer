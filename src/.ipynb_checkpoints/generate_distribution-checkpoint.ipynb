{
 "cells": [
  {
   "cell_type": "code",
   "execution_count": null,
   "metadata": {},
   "outputs": [],
   "source": [
    "import random\n",
    "def generate_distribution(N, P):\n",
    "    states = []\n",
    "    turns_arr = []\n",
    "    for i in range(0, 1000000):\n",
    "        up = 0\n",
    "        right = 0\n",
    "        turns = 1\n",
    "        state = (8, 8)\n",
    "        states.append(state)\n",
    "        while (abs(up) < 8 and abs(right) < 8):\n",
    "            x = random.uniform(0, 1)\n",
    "            possible_next = get_neighbours(state)\n",
    "            p1 = P[(N + 1) * state[0]+ state[1], (N + 1) * possible_next[0][0] + possible_next[0][1]]\n",
    "            if (x >= 0 and x < p1):\n",
    "                right -= 1\n",
    "                turns += 1\n",
    "                state = (possible_next[0][0], possible_next[0][1])\n",
    "            if (len(possible_next) > 1):\n",
    "                p2 = P[(N + 1) * state[0]+ state[1], (N + 1) * possible_next[1][0] + possible_next[1][1]]\n",
    "            if (x >= p1 and x < p1 + p2):\n",
    "                right += 1\n",
    "                turns += 1\n",
    "                state = (possible_next[1][0], possible_next[1][1])\n",
    "            if (len(possible_next) > 2):\n",
    "                p3 = P[(N + 1) * state[0]+ state[1], (N + 1) * possible_next[2][0] + possible_next[2][1]]\n",
    "            if (x >= p1+p2 and x < p1+p2+p3):\n",
    "                up += 1\n",
    "                turns += 1\n",
    "                state = (possible_next[2][0], possible_next[2][1])\n",
    "            if (len(possible_next) > 3):\n",
    "                p4 = P[(N + 1) * state[0]+ state[1], (N + 1) * possible_next[3][0] + possible_next[3][1]]\n",
    "            if (x >= p1+p2+p3 and x < 1):\n",
    "                up -= 1\n",
    "                turns += 1\n",
    "                state = (possible_next[3][0], possible_next[3][1])\n",
    "            #states.append(state)\n",
    "        turns_arr.append(turns)\n",
    "    return turns_arr#, states"
   ]
  }
 ],
 "metadata": {
  "kernelspec": {
   "display_name": "Python 3",
   "language": "python",
   "name": "python3"
  },
  "language_info": {
   "codemirror_mode": {
    "name": "ipython",
    "version": 3
   },
   "file_extension": ".py",
   "mimetype": "text/x-python",
   "name": "python",
   "nbconvert_exporter": "python",
   "pygments_lexer": "ipython3",
   "version": "3.7.4"
  }
 },
 "nbformat": 4,
 "nbformat_minor": 2
}
