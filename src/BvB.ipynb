{
 "cells": [
  {
   "cell_type": "code",
   "execution_count": 1,
   "metadata": {},
   "outputs": [],
   "source": [
    "import pandas as pd\n",
    "import numpy as np\n",
    "import matplotlib.pyplot as plt\n",
    "import scipy.stats as st\n",
    "import math\n",
    "import seaborn as sns\n",
    "import csv"
   ]
  },
  {
   "cell_type": "code",
   "execution_count": 2,
   "metadata": {},
   "outputs": [],
   "source": [
    "bvb_turns = pd.read_csv('../csv/BvB_turns.csv', sep='\\n')\n",
    "bvb_states = pd.read_csv('../csv/BvB_states.csv', sep='\\n')\n",
    "bvb_games_turns = bvb_turns['Turns'].tolist()\n",
    "bvb_games_states = bvb_states['States'].tolist()"
   ]
  },
  {
   "cell_type": "code",
   "execution_count": 3,
   "metadata": {},
   "outputs": [],
   "source": [
    "from get_prob_matrix import get_prob_matrix\n",
    "from get_prob_matrix_symmetry import get_prob_matrix_symmetry\n",
    "from get_fundamental_matrix import get_fundamental_matrix\n",
    "from get_mean_time import get_mean_time"
   ]
  },
  {
   "cell_type": "code",
   "execution_count": 17,
   "metadata": {},
   "outputs": [
    {
     "data": {
      "text/plain": [
       "75.29083"
      ]
     },
     "execution_count": 17,
     "metadata": {},
     "output_type": "execute_result"
    }
   ],
   "source": [
    "np.mean(bvb_games_turns)"
   ]
  },
  {
   "cell_type": "code",
   "execution_count": 4,
   "metadata": {},
   "outputs": [
    {
     "name": "stdout",
     "output_type": "stream",
     "text": [
      "mean time:  75.29083000000001\n",
      "mean time symm:  75.29083\n",
      "0.49359\n",
      "0.50641\n"
     ]
    }
   ],
   "source": [
    "N = 16\n",
    "\n",
    "qr, probability_matrix = get_prob_matrix(N, bvb_games_states)\n",
    "qr_symm, probability_matrix_symm = get_prob_matrix_symmetry(N, bvb_games_states)\n",
    "fundamental_matrix = get_fundamental_matrix(probability_matrix)\n",
    "fundamental_matrix_symm = get_fundamental_matrix(probability_matrix_symm)\n",
    "mean_time = get_mean_time(N - 1, fundamental_matrix)\n",
    "mean_time_symm = get_mean_time(N - 1, fundamental_matrix_symm)\n",
    "print(\"mean time: \", mean_time)\n",
    "print(\"mean time symm: \", mean_time_symm)\n",
    "\n",
    "even = 0\n",
    "odd = 0\n",
    "for i in bvb_games_turns:\n",
    "    if i % 2 == 0:\n",
    "        even +=1\n",
    "    else:\n",
    "        odd +=1 \n",
    "print(even / len(bvb_games_turns))\n",
    "print(odd / len(bvb_games_turns))"
   ]
  },
  {
   "cell_type": "code",
   "execution_count": 5,
   "metadata": {},
   "outputs": [],
   "source": [
    "from digitalize_states import digitalize_states\n",
    "from convert_games2states import convert_games2states\n",
    "from get_all_games import get_all_games\n",
    "from get_game_trajectories import get_game_trajectories\n",
    "\n",
    "states = digitalize_states(bvb_games_states)\n",
    "\n",
    "#bvb_states = np.empty((17,17))\n",
    "#for i in range(0, 17):\n",
    "#    for j in range (0, 17):\n",
    "#        bvb_states[i, j] = states.count((i, j)) / len(states)\n",
    "\n",
    "\n",
    "#bvb_states_symm = convert_games2states(get_all_games(N, get_game_trajectories(states)))\n",
    "#bvb_symm = np.empty((17, 17))\n",
    "#for i in np.arange(0, 17):\n",
    "#    for j in np.arange (0, 17):\n",
    "#        bvb_symm[i, j] = bvb_states_symm.count((i, j)) / len(bvb_states_symm)"
   ]
  },
  {
   "cell_type": "code",
   "execution_count": 6,
   "metadata": {},
   "outputs": [],
   "source": [
    "# for trajectories\n",
    "from find_closest import find_closest\n",
    "from write_states2csv import write_states2csv\n",
    "\n",
    "games = get_game_trajectories(states)\n",
    "\n",
    "k = 0\n",
    "for i in range (0, 7):\n",
    "    k += ((-1) ** i) * i\n",
    "    closest2short_index = find_closest(np.quantile(bvb_games_turns, 0.25) + k, bvb_games_turns)\n",
    "    closest2mean_index = find_closest(mean_time + k, bvb_games_turns)\n",
    "    closest2long_index = find_closest(np.quantile(bvb_games_turns, 0.75) + k, bvb_games_turns)\n",
    "\n",
    "    short_game = games[closest2short_index]\n",
    "    regular_game = games[closest2mean_index]\n",
    "    long_game = games[closest2long_index]\n",
    "\n",
    "    write_states2csv(\"BvB_sampling\", \"short\", short_game, i)\n",
    "    write_states2csv(\"BvB_sampling\", \"regular\", regular_game, i)\n",
    "    write_states2csv(\"BvB_sampling\", \"long\", long_game, i)"
   ]
  },
  {
   "cell_type": "code",
   "execution_count": 7,
   "metadata": {},
   "outputs": [],
   "source": [
    "from generate_distribution import generate_distribution"
   ]
  },
  {
   "cell_type": "code",
   "execution_count": 11,
   "metadata": {},
   "outputs": [
    {
     "name": "stderr",
     "output_type": "stream",
     "text": [
      "100%|████████████████████████████████████████████████████████████████████████| 100000/100000 [00:27<00:00, 3572.48it/s]\n",
      "100%|████████████████████████████████████████████████████████████████████████| 100000/100000 [00:27<00:00, 3622.14it/s]\n"
     ]
    }
   ],
   "source": [
    "lens, gen_turns = generate_distribution(N, qr)\n",
    "lens_symm, gen_turns_symm = generate_distribution(N, qr_symm)"
   ]
  },
  {
   "cell_type": "code",
   "execution_count": 12,
   "metadata": {},
   "outputs": [
    {
     "data": {
      "text/plain": [
       "100000"
      ]
     },
     "execution_count": 12,
     "metadata": {},
     "output_type": "execute_result"
    }
   ],
   "source": [
    "len(lens)"
   ]
  },
  {
   "cell_type": "code",
   "execution_count": 13,
   "metadata": {},
   "outputs": [
    {
     "name": "stdout",
     "output_type": "stream",
     "text": [
      "269\n"
     ]
    }
   ],
   "source": [
    "print(lens[0])"
   ]
  },
  {
   "cell_type": "code",
   "execution_count": 14,
   "metadata": {},
   "outputs": [
    {
     "name": "stdout",
     "output_type": "stream",
     "text": [
      "75.65682\n",
      "75.61414\n"
     ]
    }
   ],
   "source": [
    "print(np.mean(lens))\n",
    "print(np.mean(lens_symm))"
   ]
  },
  {
   "cell_type": "code",
   "execution_count": 15,
   "metadata": {},
   "outputs": [
    {
     "name": "stdout",
     "output_type": "stream",
     "text": [
      "0.49586\n",
      "0.50414\n",
      "0.49488\n",
      "0.50512\n"
     ]
    }
   ],
   "source": [
    "\n",
    "even = 0\n",
    "odd = 0\n",
    "even_symm = 0\n",
    "odd_symm = 0\n",
    "for i in lens:\n",
    "    if i % 2 == 0:\n",
    "        even += 1\n",
    "    else:\n",
    "        odd += 1\n",
    "        \n",
    "for i in lens_symm:\n",
    "    if i % 2 == 0:\n",
    "        even_symm += 1\n",
    "    else:\n",
    "        odd_symm += 1\n",
    "\n",
    "        \n",
    "print(even / len(lens))\n",
    "print(odd / len(lens))\n",
    "print(even_symm / len(lens_symm))\n",
    "print(odd_symm / len(lens_symm))"
   ]
  },
  {
   "cell_type": "code",
   "execution_count": 19,
   "metadata": {},
   "outputs": [],
   "source": [
    "xtick = 50\n",
    "bin_width = 16\n",
    "start_point = 40\n",
    "end_point = 400\n",
    "bins_ranges = []\n",
    "gen_turns_count = []\n",
    "\n",
    "for i in np.arange(8, max(lens)+bin_width, bin_width):\n",
    "    bins_ranges.append(i)"
   ]
  },
  {
   "cell_type": "code",
   "execution_count": 11,
   "metadata": {},
   "outputs": [
    {
     "data": {
      "image/png": "[encoded data removed]",
      "text/plain": [
       "<Figure size 595.44x792 with 3 Axes>"
      ]
     },
     "metadata": {
      "needs_background": "light"
     },
     "output_type": "display_data"
    }
   ],
   "source": [
    "fig, axes = plt.subplots(3, figsize=(8.27, 11))\n",
    "plt.rcParams['figure.dpi'] = 300\n",
    "max_x = max(bvb_games_turns)\n",
    "\n",
    "axes[0].set_yscale(\"log\")\n",
    "axes[0].set_xlabel(\"Number of turns\")\n",
    "axes[0].set_ylabel(\"PMF\")\n",
    "axes[0].set_title(\"PMF for generated PvP\")\n",
    "axes[0].set_ylim(ymin = 0.000001, ymax = 0.1)\n",
    "axes[0].set_xlim(xmin = 0, xmax = max_x)\n",
    "n_bvb_gen, bins_bvb_gen, patches_bvb_gen = axes[0].hist(gen_turns, \n",
    "                                                        bins=bins_ranges, \n",
    "                                                        rwidth=0.9, density=True) \n",
    "axes[1].set_yscale(\"log\")\n",
    "axes[1].set_xlabel(\"Number of turns\")\n",
    "axes[1].set_ylabel(\"PMF\")\n",
    "axes[1].set_title(\"PMF for generated PvP (with symmetry)\")\n",
    "axes[1].set_ylim(ymin = 0.000001, ymax = 0.1)\n",
    "axes[1].set_xlim(xmin = 0, xmax = max_x)\n",
    "n_pvp_gen_symm, bins_pvp_gen_symm, patches_pvp_gen_symm = axes[1].hist(gen_turns_symm, \n",
    "                                                                       bins=bins_ranges, \n",
    "                                                                       rwidth=0.9, density=True) \n",
    "axes[2].set_yscale(\"log\")\n",
    "axes[2].set_xlabel(\"Number of turns\")\n",
    "axes[2].set_ylabel(\"PMF\")\n",
    "axes[2].set_title(\"PMF for real PvP\")\n",
    "axes[2].set_ylim(ymin = 0.000001, ymax = 0.1)\n",
    "axes[2].set_xlim(xmin = 0, xmax = max_x)\n",
    "n_bvb, bins_bvb, patches_bvb = axes[2].hist(bvb_games_turns, \n",
    "                                            bins=bins_ranges, \n",
    "                                            rwidth=0.9, density=True)\n",
    "fig.tight_layout()\n",
    "plt.show()"
   ]
  },
  {
   "cell_type": "code",
   "execution_count": 13,
   "metadata": {},
   "outputs": [],
   "source": [
    "xs_sampling = []\n",
    "ys_sampling = []\n",
    "for i in range (0, len(bins_bvb_gen) - 1):\n",
    "    xs_sampling.append(bins_bvb_gen[i] + (bins_bvb_gen[i + 1] - bins_bvb_gen[i]) / 2)\n",
    "ys_sampling = n_bvb_gen"
   ]
  },
  {
   "cell_type": "code",
   "execution_count": 21,
   "metadata": {},
   "outputs": [],
   "source": [
    "from model_pvp import model_pvp"
   ]
  },
  {
   "cell_type": "code",
   "execution_count": 22,
   "metadata": {},
   "outputs": [],
   "source": [
    "d, prob, (even, odd) = model_pvp(N, qr)\n",
    "d_symm, prob_symm, (even_symm, odd_symm) = model_pvp(N, qr_symm)"
   ]
  },
  {
   "cell_type": "code",
   "execution_count": 23,
   "metadata": {},
   "outputs": [
    {
     "name": "stdout",
     "output_type": "stream",
     "text": [
      "75.2908299999999\n",
      "75.2908299999996\n",
      "0.4935899999999997\n",
      "0.5064099999999989\n",
      "0.4935899999999998\n",
      "0.50641\n"
     ]
    }
   ],
   "source": [
    "print(sum(d))\n",
    "print(sum(d_symm))\n",
    "print(even)\n",
    "print(odd)\n",
    "print(even_symm)\n",
    "print(odd_symm)"
   ]
  },
  {
   "cell_type": "code",
   "execution_count": 17,
   "metadata": {},
   "outputs": [
    {
     "ename": "NameError",
     "evalue": "name 'xs' is not defined",
     "output_type": "error",
     "traceback": [
      "\u001b[1;31m---------------------------------------------------------------------------\u001b[0m",
      "\u001b[1;31mNameError\u001b[0m                                 Traceback (most recent call last)",
      "\u001b[1;32m<ipython-input-17-5857d4ad3c94>\u001b[0m in \u001b[0;36m<module>\u001b[1;34m\u001b[0m\n\u001b[0;32m      2\u001b[0m \u001b[0mplt\u001b[0m\u001b[1;33m.\u001b[0m\u001b[0mrcParams\u001b[0m\u001b[1;33m[\u001b[0m\u001b[1;34m'figure.dpi'\u001b[0m\u001b[1;33m]\u001b[0m \u001b[1;33m=\u001b[0m \u001b[1;36m300\u001b[0m\u001b[1;33m\u001b[0m\u001b[1;33m\u001b[0m\u001b[0m\n\u001b[0;32m      3\u001b[0m \u001b[0mplt\u001b[0m\u001b[1;33m.\u001b[0m\u001b[0mxlim\u001b[0m\u001b[1;33m(\u001b[0m\u001b[1;36m0\u001b[0m\u001b[1;33m,\u001b[0m \u001b[1;36m200\u001b[0m\u001b[1;33m)\u001b[0m\u001b[1;33m\u001b[0m\u001b[1;33m\u001b[0m\u001b[0m\n\u001b[1;32m----> 4\u001b[1;33m \u001b[0mplt\u001b[0m\u001b[1;33m.\u001b[0m\u001b[0mxticks\u001b[0m\u001b[1;33m(\u001b[0m\u001b[0mxs\u001b[0m\u001b[1;33m[\u001b[0m\u001b[1;36m0\u001b[0m\u001b[1;33m:\u001b[0m\u001b[1;36m16\u001b[0m\u001b[1;33m]\u001b[0m\u001b[1;33m)\u001b[0m\u001b[1;33m\u001b[0m\u001b[1;33m\u001b[0m\u001b[0m\n\u001b[0m\u001b[0;32m      5\u001b[0m \u001b[0mplt\u001b[0m\u001b[1;33m.\u001b[0m\u001b[0mgrid\u001b[0m\u001b[1;33m(\u001b[0m\u001b[1;33m)\u001b[0m\u001b[1;33m\u001b[0m\u001b[1;33m\u001b[0m\u001b[0m\n\u001b[0;32m      6\u001b[0m \u001b[1;33m\u001b[0m\u001b[0m\n",
      "\u001b[1;31mNameError\u001b[0m: name 'xs' is not defined"
     ]
    },
    {
     "data": {
      "image/png": "[encoded data removed]",
      "text/plain": [
       "<Figure size 2481x3300 with 1 Axes>"
      ]
     },
     "metadata": {
      "needs_background": "light"
     },
     "output_type": "display_data"
    }
   ],
   "source": [
    "plt.rcParams['figure.figsize']=(8.27, 11)\n",
    "plt.rcParams['figure.dpi'] = 300\n",
    "plt.xlim(0, 200)\n",
    "plt.xticks(xs[0:16])\n",
    "plt.grid()\n",
    "\n",
    "xs = []\n",
    "ys = []\n",
    "x0 = 8 + bin_width / 2\n",
    "for i in range (0, len(prob) // bin_width):\n",
    "    xs.append(x0 + bin_width * i)\n",
    "for i in range (0, len(prob) // bin_width):\n",
    "    ys.append(sum(prob[bin_width * i : bin_width * (i + 1)]) / bin_width)\n",
    "plt.plot(xs, ys,'.-')\n",
    "plt.yscale(\"log\")\n",
    "plt.show()"
   ]
  },
  {
   "cell_type": "code",
   "execution_count": null,
   "metadata": {},
   "outputs": [],
   "source": [
    "xs_ys = [[],[]]\n",
    "xs_ys[0].append(\"x\")\n",
    "xs_ys[1].append(\"y\")\n",
    "xs_ys[0].extend(xs)\n",
    "xs_ys[1].extend(ys)\n",
    "xs_ys = np.array(xs_ys)\n",
    "xs_ys = np.transpose(xs_ys)"
   ]
  },
  {
   "cell_type": "code",
   "execution_count": null,
   "metadata": {},
   "outputs": [],
   "source": [
    "with open(\"../csv/bvb_model.csv\",\"w+\") as my_csv:\n",
    "    csvWriter = csv.writer(my_csv,delimiter=',')\n",
    "    csvWriter.writerows(xs_ys)"
   ]
  },
  {
   "cell_type": "code",
   "execution_count": null,
   "metadata": {},
   "outputs": [],
   "source": [
    "bvb_count = []\n",
    "uniques = np.array(gen_turns)\n",
    "uniques = np.unique(uniques)\n",
    "for i in uniques:\n",
    "    bvb_count.append(gen_turns.count(i) / len(gen_turns))\n",
    "    \n",
    "bvb_count_symm = []\n",
    "uniques_symm = np.array(gen_turns_symm)\n",
    "uniques_symm = np.unique(uniques)\n",
    "for i in uniques:\n",
    "    bvb_count_symm.append(gen_turns_symm.count(i) / len(gen_turns_symm))"
   ]
  },
  {
   "cell_type": "code",
   "execution_count": null,
   "metadata": {},
   "outputs": [],
   "source": [
    "#plt.plot(uniques, pvp_count)\n",
    "plt.yscale(\"log\")\n",
    "plt.xlabel(\"Number of turns\")\n",
    "plt.ylabel(\"PMF\")\n",
    "plt.title(\"PMF for real BvB\")\n",
    "\n",
    "\n",
    "\n",
    "plt.ylim(ymin = 0.000001, ymax = 0.1)\n",
    "#plt.plot(uniques, pvp_count, 'g.', label=\"Sampling\")\n",
    "plt.plot(xs_sampling, ys_sampling, 'g-', label=\"Sampling\")\n",
    "plt.xlim([0, 2000])\n",
    "\n",
    "n_pvp, bins_pvp, patches_pvp = plt.hist(bvb_games_turns, \n",
    "                                            bins=bins_ranges, \n",
    "                                            rwidth=0.9, density=True, label=\"hist\")\n",
    "\n",
    "#plt.plot(prob, 'r.', label=\"Modelling\")\n",
    "plt.plot(xs, ys, 'r-', label=\"Modelling\")\n",
    "plt.legend()\n",
    "#pvp_count = np.array(pvp_count)\n",
    "#pvp_count = pvp_count / sum(pvp_count)\n",
    "plt.show()"
   ]
  },
  {
   "cell_type": "code",
   "execution_count": null,
   "metadata": {},
   "outputs": [],
   "source": []
  },
  {
   "cell_type": "code",
   "execution_count": null,
   "metadata": {},
   "outputs": [],
   "source": [
    "d, prob, (even, odd) = model_pvp(N, qr)\n",
    "d_symm, prob_symm, (even_symm, odd_symm) = model_pvp(N, qr_symm)"
   ]
  }
 ],
 "metadata": {
  "kernelspec": {
   "display_name": "Python 3 (ipykernel)",
   "language": "python",
   "name": "python3"
  },
  "language_info": {
   "codemirror_mode": {
    "name": "ipython",
    "version": 3
   },
   "file_extension": ".py",
   "mimetype": "text/x-python",
   "name": "python",
   "nbconvert_exporter": "python",
   "pygments_lexer": "ipython3",
   "version": "3.9.7"
  }
 },
 "nbformat": 4,
 "nbformat_minor": 2
}
