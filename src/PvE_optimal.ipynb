{
 "cells": [
  {
   "cell_type": "code",
   "execution_count": 2,
   "metadata": {},
   "outputs": [],
   "source": [
    "import pandas as pd\n",
    "import numpy as np\n",
    "import matplotlib.pyplot as plt\n",
    "import scipy.stats as st\n",
    "import seaborn as sns\n",
    "from matplotlib.colors import LogNorm\n",
    "import csv"
   ]
  },
  {
   "cell_type": "code",
   "execution_count": null,
   "metadata": {},
   "outputs": [],
   "source": []
  },
  {
   "cell_type": "code",
   "execution_count": 3,
   "metadata": {},
   "outputs": [],
   "source": [
    "%load_ext autoreload\n",
    "%autoreload 2\n",
    "from get_prob_matrix import get_prob_matrix\n",
    "from get_prob_matrix_symmetry import get_prob_matrix_symmetry\n",
    "from get_fundamental_matrix import get_fundamental_matrix\n",
    "from get_mean_time import get_mean_time\n",
    "from get_games_strategy import get_games_strategy\n",
    "from get_games_hist_2d import get_games_hist_2d\n",
    "from make_prob_matrix import make_prob_matrix"
   ]
  },
  {
   "cell_type": "code",
   "execution_count": 4,
   "metadata": {},
   "outputs": [],
   "source": [
    "\n",
    "def traverse_paths(x, y, val, N, strategy, strategies_answers, num_strategies):\n",
    "    #print(x, y)\n",
    "    if x < y:\n",
    "        return\n",
    "    if x == N - 1 and y == N - 1:\n",
    "        #print('here', strategy)\n",
    "        prv = strategy[x][y]\n",
    "        strategy[x][y] = val\n",
    "        strategies_answers.append(strategy.copy())\n",
    "        strategy[x][y] = prv\n",
    "        return\n",
    "    if x >= N or y >= N:\n",
    "        return\n",
    "    if len(strategies_answers) > num_strategies:\n",
    "        return \n",
    "    prv = strategy[x][y]\n",
    "    strategy[x][y] = val\n",
    "    if np.random.randint(2):\n",
    "        traverse_paths(x + 1, y, val, N, strategy, strategies_answers, num_strategies)\n",
    "        traverse_paths(x, y + 1, val, N, strategy, strategies_answers, num_strategies)\n",
    "    else:\n",
    "        traverse_paths(x, y + 1, val, N, strategy, strategies_answers, num_strategies)\n",
    "        traverse_paths(x + 1, y, val, N, strategy, strategies_answers, num_strategies)\n",
    "\n",
    "    strategy[x][y] = prv\n",
    "\n"
   ]
  },
  {
   "cell_type": "code",
   "execution_count": 12,
   "metadata": {},
   "outputs": [],
   "source": [
    "N = 16\n",
    "num_strategies = 10000000\n",
    "\n",
    "strategies_answers = []\n",
    "strategy = np.full((N + 1, N + 1), 0, dtype=np.float64)\n",
    "traverse_paths(x=1, y=1, val=1, N=N, strategy=strategy, strategies_answers=strategies_answers, num_strategies=num_strategies)\n"
   ]
  },
  {
   "cell_type": "code",
   "execution_count": 9,
   "metadata": {},
   "outputs": [
    {
     "data": {
      "text/plain": [
       "14"
      ]
     },
     "execution_count": 9,
     "metadata": {},
     "output_type": "execute_result"
    }
   ],
   "source": [
    "len(strategies_answers)"
   ]
  },
  {
   "cell_type": "code",
   "execution_count": 8,
   "metadata": {},
   "outputs": [
    {
     "data": {
      "text/plain": [
       "422.10227272727275"
      ]
     },
     "execution_count": 8,
     "metadata": {},
     "output_type": "execute_result"
    }
   ],
   "source": [
    "2674440 * 20 / 60 / 24 / 44 / 2"
   ]
  },
  {
   "cell_type": "code",
   "execution_count": 39,
   "metadata": {},
   "outputs": [
    {
     "data": {
      "text/plain": [
       "44574.0"
      ]
     },
     "execution_count": 39,
     "metadata": {},
     "output_type": "execute_result"
    }
   ],
   "source": [
    "2674440 / 5 / 2 / 2 / 2 / 3\n",
    "2674440 / 60"
   ]
  },
  {
   "cell_type": "code",
   "execution_count": 19,
   "metadata": {},
   "outputs": [
    {
     "name": "stderr",
     "output_type": "stream",
     "text": [
      "C:\\Users\\MIKE_L~1\\AppData\\Local\\Temp/ipykernel_14712/1150031700.py:48: DeprecationWarning: `np.bool` is a deprecated alias for the builtin `bool`. To silence this warning, use `bool` by itself. Doing this will not modify any behavior and is safe. If you specifically wanted the numpy scalar type, use `np.bool_` here.\n",
      "Deprecated in NumPy 1.20; for more details and guidance: https://numpy.org/devdocs/release/1.20.0-notes.html#deprecations\n",
      "  inside_mask = np.zeros_like(strategy_center, dtype=np.bool)\n"
     ]
    },
    {
     "ename": "IndexError",
     "evalue": "too many indices for array: array is 1-dimensional, but 2 were indexed",
     "output_type": "error",
     "traceback": [
      "\u001b[1;31m---------------------------------------------------------------------------\u001b[0m",
      "\u001b[1;31mIndexError\u001b[0m                                Traceback (most recent call last)",
      "\u001b[1;32mC:\\Users\\MIKE_L~1\\AppData\\Local\\Temp/ipykernel_14712/1150031700.py\u001b[0m in \u001b[0;36m<module>\u001b[1;34m\u001b[0m\n\u001b[0;32m     61\u001b[0m         \u001b[0mplt\u001b[0m\u001b[1;33m.\u001b[0m\u001b[0mcolorbar\u001b[0m\u001b[1;33m(\u001b[0m\u001b[1;33m)\u001b[0m\u001b[1;33m\u001b[0m\u001b[1;33m\u001b[0m\u001b[0m\n\u001b[0;32m     62\u001b[0m \u001b[1;33m\u001b[0m\u001b[0m\n\u001b[1;32m---> 63\u001b[1;33m         \u001b[0mmean_times\u001b[0m\u001b[1;33m[\u001b[0m\u001b[0minside_mask\u001b[0m\u001b[1;33m[\u001b[0m\u001b[1;36m1\u001b[0m\u001b[1;33m:\u001b[0m\u001b[1;33m-\u001b[0m\u001b[1;36m1\u001b[0m\u001b[1;33m,\u001b[0m \u001b[1;36m1\u001b[0m\u001b[1;33m:\u001b[0m\u001b[1;33m-\u001b[0m\u001b[1;36m1\u001b[0m\u001b[1;33m]\u001b[0m\u001b[1;33m]\u001b[0m \u001b[1;33m=\u001b[0m \u001b[1;36m0\u001b[0m\u001b[1;33m\u001b[0m\u001b[1;33m\u001b[0m\u001b[0m\n\u001b[0m\u001b[0;32m     64\u001b[0m         \u001b[0mnp\u001b[0m\u001b[1;33m.\u001b[0m\u001b[0msavetxt\u001b[0m\u001b[1;33m(\u001b[0m\u001b[1;34mf'../data/pairs/{i}_{j}.txt'\u001b[0m\u001b[1;33m,\u001b[0m \u001b[0mmean_times\u001b[0m\u001b[1;33m.\u001b[0m\u001b[0mreshape\u001b[0m\u001b[1;33m(\u001b[0m\u001b[0mN\u001b[0m \u001b[1;33m-\u001b[0m \u001b[1;36m1\u001b[0m\u001b[1;33m,\u001b[0m \u001b[0mN\u001b[0m \u001b[1;33m-\u001b[0m \u001b[1;36m1\u001b[0m\u001b[1;33m)\u001b[0m\u001b[1;33m,\u001b[0m \u001b[0mfmt\u001b[0m\u001b[1;33m=\u001b[0m\u001b[1;34m'%8.2f'\u001b[0m\u001b[1;33m)\u001b[0m\u001b[1;33m\u001b[0m\u001b[1;33m\u001b[0m\u001b[0m\n\u001b[0;32m     65\u001b[0m \u001b[1;33m\u001b[0m\u001b[0m\n",
      "\u001b[1;31mIndexError\u001b[0m: too many indices for array: array is 1-dimensional, but 2 were indexed"
     ]
    },
    {
     "data": {
      "image/png": "[encoded data removed]",
      "text/plain": [
       "<Figure size 432x288 with 2 Axes>"
      ]
     },
     "metadata": {
      "needs_background": "light"
     },
     "output_type": "display_data"
    },
    {
     "data": {
      "image/png": "[encoded data removed]",
      "text/plain": [
       "<Figure size 432x288 with 2 Axes>"
      ]
     },
     "metadata": {
      "needs_background": "light"
     },
     "output_type": "display_data"
    },
    {
     "data": {
      "image/png": "[encoded data removed]",
      "text/plain": [
       "<Figure size 432x288 with 2 Axes>"
      ]
     },
     "metadata": {
      "needs_background": "light"
     },
     "output_type": "display_data"
    }
   ],
   "source": [
    "def make_banded_matrix(A, N):\n",
    "    banded_matrix = np.zeros((2 * N + 1, N ** 2), dtype=np.float32)\n",
    "    for i in [-N, -1, 0, 1, N]:\n",
    "        d = np.diagonal(A, -i)\n",
    "        if i < 0:\n",
    "            banded_matrix[i + N, -i:] = d\n",
    "        if i > 0:\n",
    "            banded_matrix[i + N, :-i] = d\n",
    "        if i == 0:\n",
    "            banded_matrix[i + N, :] = d\n",
    "    return banded_matrix\n",
    "\n",
    "def find_mean_time_banded(A, N):\n",
    "    banded_matrix = make_banded_matrix(np.eye(A.shape[0]) - A, N)\n",
    "    import scipy\n",
    "    mean_times = scipy.linalg.solve_banded((N, N), banded_matrix, np.ones(banded_matrix.shape[1]))\n",
    "    return mean_times[N * (N // 2) + N // 2], mean_times\n",
    "\n",
    "def find_mean_time(Q, N): # Sparse is slow\n",
    "    mean_times = np.linalg.solve(np.eye(Q.shape[0]) - Q, np.ones(Q.shape[0]))\n",
    "    return mean_times[N * (N // 2) + N // 2]\n",
    "\n",
    "\n",
    "from tqdm import tqdm\n",
    "N = 16\n",
    "n = len(strategies_answers)\n",
    "strategy_center = np.full((N + 1, N + 1), 0.5, dtype=np.float64)\n",
    "strategy_border = np.full_like(strategy_center, 0.5)\n",
    "cnt = 0\n",
    "for i in [1]: # (range(n))\n",
    "    for j in [100, 10000, 550000]: #tqdm(range(n))\n",
    "        strategy_center[:, :] = 0.5\n",
    "        strategy_center[strategies_answers[i].astype('bool').T] = 1\n",
    "        strategy_center[strategies_answers[j].astype('bool')] = 0\n",
    "        qr_optimal, probability_optimal = make_prob_matrix(N, strategy_center, strategy_border)\n",
    "        \n",
    "        mean_time, mean_times = find_mean_time_banded(probability_optimal, N - 1)\n",
    "        condition = np.abs(mean_time - 225) > 1e-6\n",
    "\n",
    "        plt.figure()\n",
    "        plt.imshow(mean_times.reshape(N - 1, N - 1))\n",
    "        plt.colorbar()\n",
    "        \n",
    "        plt.figure()\n",
    "        plt.imshow(strategy_center)\n",
    "        plt.colorbar()\n",
    "\n",
    "        inside_mask = np.zeros_like(strategy_center, dtype=np.bool)\n",
    "        for x in range(strategy_center.shape[0]):\n",
    "            ok = False\n",
    "            for y in range(strategy_center.shape[1]):\n",
    "                if strategy_center[x][y] == 0:\n",
    "                    ok = True\n",
    "                if ok or strategy_center[x][y] != 0.5:\n",
    "                    inside_mask[x][y] = 1\n",
    "                if strategy_center[x][y] == 1:\n",
    "                    ok = False\n",
    "\n",
    "        plt.figure()\n",
    "        plt.imshow(inside_mask)\n",
    "        plt.colorbar()\n",
    "        mean_times = mean_times.reshape(N - 1, N - 1)\n",
    "        mean_times[inside_mask[1:-1, 1:-1]] = 0\n",
    "        np.savetxt(f'../data/pairs/{i}_{j}.txt', mean_times, fmt='%8.2f')\n",
    "\n",
    "        cnt += condition\n",
    "        if condition:\n",
    "            print(i, j, mean_time)\n"
   ]
  },
  {
   "cell_type": "code",
   "execution_count": 30,
   "metadata": {},
   "outputs": [
    {
     "ename": "TypingError",
     "evalue": "Failed in nopython mode pipeline (step: nopython frontend)\n\u001b[1m\u001b[1m\u001b[1m\u001b[1mFailed in nopython mode pipeline (step: nopython frontend)\n\u001b[1m\u001b[1mUnknown attribute 'solve_banded' of type Module(<module 'scipy.linalg' from 'C:\\\\ProgramData\\\\Anaconda3\\\\envs\\\\py39\\\\lib\\\\site-packages\\\\scipy\\\\linalg\\\\__init__.py'>)\n\u001b[1m\nFile \"C:\\Users\\MIKE_L~1\\AppData\\Local\\Temp\\ipykernel_21920\\1757895974.py\", line 24:\u001b[0m\n\u001b[1m<source missing, REPL/exec in use?>\u001b[0m\n\u001b[0m\n\u001b[0m\u001b[1mDuring: typing of get attribute at C:\\Users\\MIKE_L~1\\AppData\\Local\\Temp/ipykernel_21920/1757895974.py (24)\u001b[0m\n\u001b[1m\nFile \"C:\\Users\\MIKE_L~1\\AppData\\Local\\Temp\\ipykernel_21920\\1757895974.py\", line 24:\u001b[0m\n\u001b[1m<source missing, REPL/exec in use?>\u001b[0m\n\n\u001b[0m\u001b[1mDuring: resolving callee type: type(CPUDispatcher(<function find_mean_time_banded at 0x0000015E3BECBC10>))\u001b[0m\n\u001b[0m\u001b[1mDuring: typing of call at C:\\Users\\MIKE_L~1\\AppData\\Local\\Temp/ipykernel_21920/1757895974.py (57)\n\u001b[0m\n\u001b[0m\u001b[1mDuring: resolving callee type: type(CPUDispatcher(<function find_mean_time_banded at 0x0000015E3BECBC10>))\u001b[0m\n\u001b[0m\u001b[1mDuring: typing of call at C:\\Users\\MIKE_L~1\\AppData\\Local\\Temp/ipykernel_21920/1757895974.py (57)\n\u001b[0m\n\u001b[1m\nFile \"C:\\Users\\MIKE_L~1\\AppData\\Local\\Temp\\ipykernel_21920\\1757895974.py\", line 57:\u001b[0m\n\u001b[1m<source missing, REPL/exec in use?>\u001b[0m\n",
     "output_type": "error",
     "traceback": [
      "\u001b[1;31m---------------------------------------------------------------------------\u001b[0m",
      "\u001b[1;31mTypingError\u001b[0m                               Traceback (most recent call last)",
      "\u001b[1;32mC:\\Users\\MIKE_L~1\\AppData\\Local\\Temp/ipykernel_21920/1757895974.py\u001b[0m in \u001b[0;36m<module>\u001b[1;34m\u001b[0m\n\u001b[0;32m     67\u001b[0m     \u001b[1;32mreturn\u001b[0m \u001b[0mcnt\u001b[0m\u001b[1;33m\u001b[0m\u001b[1;33m\u001b[0m\u001b[0m\n\u001b[0;32m     68\u001b[0m \u001b[1;33m\u001b[0m\u001b[0m\n\u001b[1;32m---> 69\u001b[1;33m \u001b[0mtraverse_all_pairs\u001b[0m\u001b[1;33m(\u001b[0m\u001b[0mnp\u001b[0m\u001b[1;33m.\u001b[0m\u001b[0marray\u001b[0m\u001b[1;33m(\u001b[0m\u001b[0mstrategies_answers\u001b[0m\u001b[1;33m)\u001b[0m\u001b[1;33m)\u001b[0m\u001b[1;33m\u001b[0m\u001b[1;33m\u001b[0m\u001b[0m\n\u001b[0m",
      "\u001b[1;32mC:\\ProgramData\\Anaconda3\\envs\\py39\\lib\\site-packages\\numba\\core\\dispatcher.py\u001b[0m in \u001b[0;36m_compile_for_args\u001b[1;34m(self, *args, **kws)\u001b[0m\n\u001b[0;32m    480\u001b[0m                 \u001b[0me\u001b[0m\u001b[1;33m.\u001b[0m\u001b[0mpatch_message\u001b[0m\u001b[1;33m(\u001b[0m\u001b[0mmsg\u001b[0m\u001b[1;33m)\u001b[0m\u001b[1;33m\u001b[0m\u001b[1;33m\u001b[0m\u001b[0m\n\u001b[0;32m    481\u001b[0m \u001b[1;33m\u001b[0m\u001b[0m\n\u001b[1;32m--> 482\u001b[1;33m             \u001b[0merror_rewrite\u001b[0m\u001b[1;33m(\u001b[0m\u001b[0me\u001b[0m\u001b[1;33m,\u001b[0m \u001b[1;34m'typing'\u001b[0m\u001b[1;33m)\u001b[0m\u001b[1;33m\u001b[0m\u001b[1;33m\u001b[0m\u001b[0m\n\u001b[0m\u001b[0;32m    483\u001b[0m         \u001b[1;32mexcept\u001b[0m \u001b[0merrors\u001b[0m\u001b[1;33m.\u001b[0m\u001b[0mUnsupportedError\u001b[0m \u001b[1;32mas\u001b[0m \u001b[0me\u001b[0m\u001b[1;33m:\u001b[0m\u001b[1;33m\u001b[0m\u001b[1;33m\u001b[0m\u001b[0m\n\u001b[0;32m    484\u001b[0m             \u001b[1;31m# Something unsupported is present in the user code, add help info\u001b[0m\u001b[1;33m\u001b[0m\u001b[1;33m\u001b[0m\u001b[0m\n",
      "\u001b[1;32mC:\\ProgramData\\Anaconda3\\envs\\py39\\lib\\site-packages\\numba\\core\\dispatcher.py\u001b[0m in \u001b[0;36merror_rewrite\u001b[1;34m(e, issue_type)\u001b[0m\n\u001b[0;32m    421\u001b[0m                 \u001b[1;32mraise\u001b[0m \u001b[0me\u001b[0m\u001b[1;33m\u001b[0m\u001b[1;33m\u001b[0m\u001b[0m\n\u001b[0;32m    422\u001b[0m             \u001b[1;32melse\u001b[0m\u001b[1;33m:\u001b[0m\u001b[1;33m\u001b[0m\u001b[1;33m\u001b[0m\u001b[0m\n\u001b[1;32m--> 423\u001b[1;33m                 \u001b[1;32mraise\u001b[0m \u001b[0me\u001b[0m\u001b[1;33m.\u001b[0m\u001b[0mwith_traceback\u001b[0m\u001b[1;33m(\u001b[0m\u001b[1;32mNone\u001b[0m\u001b[1;33m)\u001b[0m\u001b[1;33m\u001b[0m\u001b[1;33m\u001b[0m\u001b[0m\n\u001b[0m\u001b[0;32m    424\u001b[0m \u001b[1;33m\u001b[0m\u001b[0m\n\u001b[0;32m    425\u001b[0m         \u001b[0margtypes\u001b[0m \u001b[1;33m=\u001b[0m \u001b[1;33m[\u001b[0m\u001b[1;33m]\u001b[0m\u001b[1;33m\u001b[0m\u001b[1;33m\u001b[0m\u001b[0m\n",
      "\u001b[1;31mTypingError\u001b[0m: Failed in nopython mode pipeline (step: nopython frontend)\n\u001b[1m\u001b[1m\u001b[1m\u001b[1mFailed in nopython mode pipeline (step: nopython frontend)\n\u001b[1m\u001b[1mUnknown attribute 'solve_banded' of type Module(<module 'scipy.linalg' from 'C:\\\\ProgramData\\\\Anaconda3\\\\envs\\\\py39\\\\lib\\\\site-packages\\\\scipy\\\\linalg\\\\__init__.py'>)\n\u001b[1m\nFile \"C:\\Users\\MIKE_L~1\\AppData\\Local\\Temp\\ipykernel_21920\\1757895974.py\", line 24:\u001b[0m\n\u001b[1m<source missing, REPL/exec in use?>\u001b[0m\n\u001b[0m\n\u001b[0m\u001b[1mDuring: typing of get attribute at C:\\Users\\MIKE_L~1\\AppData\\Local\\Temp/ipykernel_21920/1757895974.py (24)\u001b[0m\n\u001b[1m\nFile \"C:\\Users\\MIKE_L~1\\AppData\\Local\\Temp\\ipykernel_21920\\1757895974.py\", line 24:\u001b[0m\n\u001b[1m<source missing, REPL/exec in use?>\u001b[0m\n\n\u001b[0m\u001b[1mDuring: resolving callee type: type(CPUDispatcher(<function find_mean_time_banded at 0x0000015E3BECBC10>))\u001b[0m\n\u001b[0m\u001b[1mDuring: typing of call at C:\\Users\\MIKE_L~1\\AppData\\Local\\Temp/ipykernel_21920/1757895974.py (57)\n\u001b[0m\n\u001b[0m\u001b[1mDuring: resolving callee type: type(CPUDispatcher(<function find_mean_time_banded at 0x0000015E3BECBC10>))\u001b[0m\n\u001b[0m\u001b[1mDuring: typing of call at C:\\Users\\MIKE_L~1\\AppData\\Local\\Temp/ipykernel_21920/1757895974.py (57)\n\u001b[0m\n\u001b[1m\nFile \"C:\\Users\\MIKE_L~1\\AppData\\Local\\Temp\\ipykernel_21920\\1757895974.py\", line 57:\u001b[0m\n\u001b[1m<source missing, REPL/exec in use?>\u001b[0m\n"
     ]
    }
   ],
   "source": [
    "from numba import prange, jit, njit\n",
    "@njit\n",
    "def make_banded_matrix(A, N):\n",
    "    banded_matrix = np.zeros((2 * N + 1, A.shape[0]), dtype=np.float32)\n",
    "    for i in [-N, -1, 0, 1, N]:\n",
    "        #d = np.diagonal(A, -i)\n",
    "        for j in range(A.shape[0]):\n",
    "            if j + i >= 0 and j + i < A.shape[0]:\n",
    "                banded_matrix[i + N, j] = A[j + i, j]\n",
    "        '''\n",
    "        if i < 0:\n",
    "            banded_matrix[i + N, -i:] = d\n",
    "        if i > 0:\n",
    "            banded_matrix[i + N, :-i] = d\n",
    "        if i == 0:\n",
    "            banded_matrix[i + N, :] = d\n",
    "            '''\n",
    "    return banded_matrix\n",
    "\n",
    "import scipy\n",
    "@njit\n",
    "def find_mean_time_banded(A, N):\n",
    "    banded_matrix = make_banded_matrix(np.eye(A.shape[0]) - A, N)\n",
    "    mean_times = scipy.linalg.solve_banded((N, N), banded_matrix, np.ones(banded_matrix.shape[1]))\n",
    "    return mean_times[N * (N // 2) + N // 2]\n",
    "\n",
    "def find_mean_time(Q, N): # Sparse is slow\n",
    "    mean_times = np.linalg.solve(np.eye(Q.shape[0]) - Q, np.ones(Q.shape[0]))\n",
    "    return mean_times[N * (N // 2) + N // 2]\n",
    "\n",
    "from tqdm import tqdm\n",
    "from make_prob_matrix import make_prob_matrix\n",
    "    \n",
    "@jit(nopython=True, parallel=True)\n",
    "def traverse_all_pairs(strategies_answers):\n",
    "    N = 16\n",
    "    n = len(strategies_answers)\n",
    "    strategy_center = np.full((N + 1, N + 1), 0.5, dtype=np.float64)\n",
    "    strategy_border = np.full_like(strategy_center, 0.5)\n",
    "    cnt = 0\n",
    "    #n = 10000\n",
    "    for i in (range(n)):\n",
    "        #res = np.zeros((n, (N - 1)**2, (N - 1)**2), dtype=np.float32)\n",
    "        for j in prange(n):\n",
    "            \n",
    "            strategy_center[:, :] = 0.5\n",
    "            for x in range(strategy_center.shape[0]):\n",
    "                for y in range(strategy_center.shape[1]):\n",
    "                    if strategies_answers[i, x, y]:\n",
    "                        strategy_center[y, x] = 1\n",
    "                    if strategies_answers[j, x, y]:\n",
    "                        strategy_center[x, y] = 0\n",
    "            qr_optimal, probability_optimal = make_prob_matrix(N, strategy_center, strategy_border)\n",
    "            #res[j, :, :] = np.eye(probability_optimal.shape[0]) - probability_optimal\n",
    "            #fundamental_matrix_border = get_fundamental_matrix(probability_optimal)\n",
    "            #mean_time = get_mean_time(N - 1, fundamental_matrix_border)\n",
    "            mean_time = find_mean_time_banded(probability_optimal, N - 1)\n",
    "            '''\n",
    "            condition = np.abs(mean_time - 225) > 1e-6\n",
    "            cnt += condition\n",
    "            if condition:\n",
    "                print(i, j, mean_time)\n",
    "            '''\n",
    "        #cur = np.linalg.solve(res, np.ones((res.shape[0], res.shape[1])))\n",
    "        #cur = np.linalg.inv(res)\n",
    "        #print(cur.shape)\n",
    "    return cnt\n",
    "\n",
    "traverse_all_pairs(np.array(strategies_answers))\n"
   ]
  },
  {
   "cell_type": "code",
   "execution_count": 29,
   "metadata": {},
   "outputs": [
    {
     "data": {
      "text/plain": [
       "array([[ 0.,  0.,  0.,  3., 14., 25., 36., 47., 58., 69.],\n",
       "       [ 0.,  0.,  0.,  0.,  0.,  0.,  0.,  0.,  0.,  0.],\n",
       "       [ 0.,  1., 12., 23., 34., 45., 56., 67., 78., 89.],\n",
       "       [ 0., 11., 22., 33., 44., 55., 66., 77., 88., 99.],\n",
       "       [10., 21., 32., 43., 54., 65., 76., 87., 98.,  0.],\n",
       "       [ 0.,  0.,  0.,  0.,  0.,  0.,  0.,  0.,  0.,  0.],\n",
       "       [30., 41., 52., 63., 74., 85., 96.,  0.,  0.,  0.]], dtype=float32)"
      ]
     },
     "execution_count": 29,
     "metadata": {},
     "output_type": "execute_result"
    }
   ],
   "source": [
    "make_banded_matrix(np.arange(0, 100).reshape(10, 10), 3)"
   ]
  },
  {
   "cell_type": "code",
   "execution_count": 27,
   "metadata": {},
   "outputs": [
    {
     "data": {
      "text/plain": [
       "array([[ 0,  1,  2,  3,  4,  5,  6,  7,  8,  9],\n",
       "       [10, 11, 12, 13, 14, 15, 16, 17, 18, 19],\n",
       "       [20, 21, 22, 23, 24, 25, 26, 27, 28, 29],\n",
       "       [30, 31, 32, 33, 34, 35, 36, 37, 38, 39],\n",
       "       [40, 41, 42, 43, 44, 45, 46, 47, 48, 49],\n",
       "       [50, 51, 52, 53, 54, 55, 56, 57, 58, 59],\n",
       "       [60, 61, 62, 63, 64, 65, 66, 67, 68, 69],\n",
       "       [70, 71, 72, 73, 74, 75, 76, 77, 78, 79],\n",
       "       [80, 81, 82, 83, 84, 85, 86, 87, 88, 89],\n",
       "       [90, 91, 92, 93, 94, 95, 96, 97, 98, 99]])"
      ]
     },
     "execution_count": 27,
     "metadata": {},
     "output_type": "execute_result"
    }
   ],
   "source": [
    "np.arange(0, 100).reshape(10, 10)"
   ]
  },
  {
   "cell_type": "code",
   "execution_count": 76,
   "metadata": {},
   "outputs": [
    {
     "data": {
      "text/plain": [
       "225.00000000000017"
      ]
     },
     "execution_count": 76,
     "metadata": {},
     "output_type": "execute_result"
    },
    {
     "data": {
      "image/png": "[encoded data removed]",
      "text/plain": [
       "<Figure size 1800x1200 with 1 Axes>"
      ]
     },
     "metadata": {
      "needs_background": "light"
     },
     "output_type": "display_data"
    }
   ],
   "source": [
    "A = res[0, :, :].copy()\n",
    "plt.figure(dpi=300)\n",
    "plt.imshow(A)\n",
    "\n",
    "find_mean_time_banded(A, N - 1)"
   ]
  },
  {
   "cell_type": "code",
   "execution_count": null,
   "metadata": {},
   "outputs": [],
   "source": []
  },
  {
   "cell_type": "code",
   "execution_count": 58,
   "metadata": {},
   "outputs": [
    {
     "data": {
      "text/plain": [
       "(224,)"
      ]
     },
     "execution_count": 58,
     "metadata": {},
     "output_type": "execute_result"
    }
   ],
   "source": [
    "np.diagonal(A, 1).shape"
   ]
  },
  {
   "cell_type": "code",
   "execution_count": 137,
   "metadata": {},
   "outputs": [
    {
     "name": "stdout",
     "output_type": "stream",
     "text": [
      "224.99999999999986\n"
     ]
    },
    {
     "data": {
      "image/png": "[encoded data removed]",
      "text/plain": [
       "<Figure size 1050x810 with 2 Axes>"
      ]
     },
     "metadata": {
      "needs_background": "light"
     },
     "output_type": "display_data"
    },
    {
     "data": {
      "image/png": "[encoded data removed]",
      "text/plain": [
       "<Figure size 432x288 with 2 Axes>"
      ]
     },
     "metadata": {
      "needs_background": "light"
     },
     "output_type": "display_data"
    }
   ],
   "source": [
    "N = 16\n",
    "'''num_strategies = 1000\n",
    "\n",
    "strategies_answers = []\n",
    "strategy = np.full((N + 1, N + 1), 0, dtype=np.float64)\n",
    "traverse_paths(x=1, y=1, val=1, N=N, strategy=strategy, strategies_answers=strategies_answers, num_strategies=num_strategies)\n",
    "'''\n",
    "\n",
    "id_1 = np.random.randint(len(strategies_answers))\n",
    "id_2 = np.random.randint(len(strategies_answers))\n",
    "strategy_center = np.full((N + 1, N + 1), 0.5, dtype=np.float64)\n",
    "strategy_center[strategies_answers[id_1].astype('bool')] = 0\n",
    "strategy_center[strategies_answers[id_2].astype('bool').T] = 1\n",
    "\n",
    "strategy_border = np.full_like(strategy_center, 0.5)\n",
    "#strategy_center[1, 1] = 0.5\n",
    "#strategy_center[N - 1, N - 1] = 0.5\n",
    "\n",
    "'''\n",
    "strategy_center = np.full((N + 1, N + 1), 0.5, dtype=np.float64)\n",
    "for i in range(1, N):\n",
    "    strategy_center[i, 1] = 0\n",
    "    strategy_center[1, i] = 1\n",
    "    strategy_center[N - 1, i] = 0\n",
    "    strategy_center[i, N - 1] = 1\n",
    "\n",
    "'''\n",
    "plt.figure(figsize=(3.5, 2.7), dpi=300)\n",
    "plt.imshow(strategy_center)\n",
    "cbar = plt.colorbar()\n",
    "plt.axis(False)\n",
    "plt.subplots_adjust()\n",
    "cbar.set_ticks([0, 0.5, 1])\n",
    "image_dir = '../../PvE_optimal/'\n",
    "import glob\n",
    "files = glob.glob(image_dir + 'strategy_random_optimal*.png')\n",
    "image_id = len(files)\n",
    "plt.savefig(image_dir + f'strategy_random_optimal_{image_id}.png')\n",
    "\n",
    "plt.figure()\n",
    "plt.imshow(strategy_border)\n",
    "plt.colorbar()\n",
    "\n",
    "\n",
    "qr_optimal, probability_optimal  = make_prob_matrix(N, strategy_center, strategy_border)\n",
    "\n",
    "fundamental_matrix_border = get_fundamental_matrix(probability_optimal)\n",
    "mean_time = get_mean_time(N - 1, fundamental_matrix_border)\n",
    "print(mean_time)"
   ]
  },
  {
   "cell_type": "code",
   "execution_count": 91,
   "metadata": {},
   "outputs": [
    {
     "name": "stdout",
     "output_type": "stream",
     "text": [
      "224.99999999999977\n"
     ]
    }
   ],
   "source": [
    "print()"
   ]
  },
  {
   "cell_type": "code",
   "execution_count": 69,
   "metadata": {},
   "outputs": [
    {
     "data": {
      "text/plain": [
       "(array([0.  , 0.  , 0.  , 0.  , 0.  , 0.  , 0.  , 0.  , 0.  , 0.  , 0.  ,\n",
       "        0.  , 0.  , 0.  , 0.  , 0.  , 0.  , 0.5 , 1.  , 0.75, 0.75, 0.75,\n",
       "        0.75, 0.75, 0.75, 0.75, 0.75, 0.75, 0.75, 0.75, 0.75, 0.75, 0.  ,\n",
       "        0.  , 0.  , 1.25, 1.5 , 1.25, 1.25, 1.25, 1.25, 1.25, 1.25, 1.25,\n",
       "        1.25, 1.25, 1.25, 1.25, 1.5 , 0.75, 0.  , 0.  , 0.75, 1.25, 1.  ,\n",
       "        1.  , 1.  , 1.  , 1.  , 1.  , 1.  , 1.  , 1.  , 1.  , 1.  , 1.25,\n",
       "        0.75, 0.  , 0.  , 0.75, 1.25, 1.  , 1.  , 1.  , 1.  , 1.  , 1.  ,\n",
       "        1.  , 1.  , 1.  , 1.  , 1.  , 1.25, 0.75, 0.  , 0.  , 0.75, 1.25,\n",
       "        1.  , 1.  , 1.  , 1.  , 1.  , 1.  , 1.  , 1.  , 1.  , 1.  , 1.  ,\n",
       "        1.25, 0.75, 0.  , 0.  , 0.75, 1.25, 1.  , 1.  , 1.  , 1.  , 1.  ,\n",
       "        1.  , 1.  , 1.  , 1.  , 1.  , 1.  , 1.25, 0.75, 0.  , 0.  , 0.75,\n",
       "        1.25, 1.  , 1.  , 1.  , 1.  , 1.  , 1.  , 1.  , 1.  , 1.  , 1.  ,\n",
       "        1.  , 1.25, 0.75, 0.  , 0.  , 0.75, 1.25, 1.  , 1.  , 1.  , 1.  ,\n",
       "        1.  , 1.  , 1.  , 1.  , 1.  , 1.  , 1.  , 1.25, 0.75, 0.  , 0.  ,\n",
       "        0.75, 1.25, 1.  , 1.  , 1.  , 1.  , 1.  , 1.  , 1.  , 1.  , 1.  ,\n",
       "        1.  , 1.  , 1.25, 0.75, 0.  , 0.  , 0.75, 1.25, 1.  , 1.  , 1.  ,\n",
       "        1.  , 1.  , 1.  , 1.  , 1.  , 1.  , 1.  , 1.  , 1.25, 0.75, 0.  ,\n",
       "        0.  , 0.75, 1.25, 1.  , 1.  , 1.  , 1.  , 1.  , 1.  , 1.  , 1.  ,\n",
       "        1.  , 1.  , 1.  , 1.25, 0.75, 0.  , 0.  , 0.75, 1.25, 1.  , 1.  ,\n",
       "        1.  , 1.  , 1.  , 1.  , 1.  , 1.  , 1.  , 1.  , 1.  , 1.25, 0.75,\n",
       "        0.  , 0.  , 0.75, 1.25, 1.  , 1.  , 1.  , 1.  , 1.  , 1.  , 1.  ,\n",
       "        1.  , 1.  , 1.  , 1.  , 1.25, 0.75, 0.  , 0.  , 0.75, 1.5 , 1.25,\n",
       "        1.25, 1.25, 1.25, 1.25, 1.25, 1.25, 1.25, 1.25, 1.25, 1.25, 1.5 ,\n",
       "        0.75, 0.  , 0.  , 0.  , 0.75, 0.75, 0.75, 0.75, 0.75, 0.75, 0.75,\n",
       "        0.75, 0.75, 0.75, 0.75, 0.75, 1.25, 1.  , 0.  , 0.  , 0.  , 0.  ,\n",
       "        0.  , 0.  , 0.  , 0.  , 0.  , 0.  , 0.  , 0.  , 0.  , 0.  , 0.  ,\n",
       "        0.  , 0.5 , 0.  ]),\n",
       " (289, 289))"
      ]
     },
     "execution_count": 69,
     "metadata": {},
     "output_type": "execute_result"
    }
   ],
   "source": [
    "np.sum(probability_matrix_optimal, 0), probability_matrix_optimal.shape"
   ]
  }
 ],
 "metadata": {
  "interpreter": {
   "hash": "b3ba2566441a7c06988d0923437866b63cedc61552a5af99d1f4fb67d367b25f"
  },
  "kernelspec": {
   "display_name": "Python 3.8.8 64-bit ('base': conda)",
   "language": "python",
   "name": "python3"
  },
  "language_info": {
   "codemirror_mode": {
    "name": "ipython",
    "version": 3
   },
   "file_extension": ".py",
   "mimetype": "text/x-python",
   "name": "python",
   "nbconvert_exporter": "python",
   "pygments_lexer": "ipython3",
   "version": "3.9.7"
  },
  "orig_nbformat": 4
 },
 "nbformat": 4,
 "nbformat_minor": 2
}
