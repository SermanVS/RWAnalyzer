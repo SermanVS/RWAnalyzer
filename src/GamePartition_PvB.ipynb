{
 "cells": [
  {
   "cell_type": "code",
   "execution_count": 1,
   "metadata": {},
   "outputs": [],
   "source": [
    "import numpy as np\n",
    "from get_border_cases import get_border_cases\n",
    "import matplotlib as mpl\n",
    "import matplotlib.colors as mcolors\n",
    "import numpy as np\n",
    "import seaborn as sns\n",
    "import matplotlib.pyplot as plt"
   ]
  },
  {
   "cell_type": "code",
   "execution_count": 2,
   "metadata": {},
   "outputs": [],
   "source": [
    "n = 17\n",
    "N = n - 1\n",
    "inner_n = n - 2\n",
    "border_cases = get_border_cases(N)\n",
    "params = np.ones(inner_n ** 2)"
   ]
  },
  {
   "attachments": {},
   "cell_type": "markdown",
   "metadata": {},
   "source": [
    "$$ E(p, 0.5) = p / 2 * (a + b) + (1 - p) * (c + d) / 2$$"
   ]
  },
  {
   "cell_type": "code",
   "execution_count": 3,
   "metadata": {},
   "outputs": [],
   "source": [
    "def find_max(func, game):\n",
    "    if func(0, game) >= func(1, game):\n",
    "        v = func(0, game)\n",
    "        p = 0\n",
    "    else:\n",
    "        v = func(1, game)\n",
    "        p = 1\n",
    "    return v, p\n",
    "\n",
    "def get_win(p, game):\n",
    "    return (p / 2) * (game[0, 0] + game[0, 1]) + (1 - p) / 2 * (game[1, 0] + game[1, 1])\n",
    "\n",
    "'''\n",
    "    Computes the value of a game.\n",
    "    game is 2x2 matrix.\n",
    "'''\n",
    "def get_value(game):\n",
    "    v, p = find_max(get_win, game)\n",
    "    return v, p\n",
    "\n",
    "'''\n",
    "    Converts global index to inner index.\n",
    "    index - index to convert.\n",
    "    inner_n - inner dimension (without borders).\n",
    "    global_n - outer dimension (with borders).\n",
    "'''\n",
    "def inner_n_to_global_N(index, inner_n, global_n):\n",
    "    row = index // inner_n\n",
    "    col = index % inner_n\n",
    "    global_index = (row + 1) * global_n + (col + 1)\n",
    "    return global_index\n",
    "\n",
    "def global_N_to_inner_n(index, inner_n, global_n):\n",
    "    row = index // global_n\n",
    "    col = index % global_n\n",
    "\n",
    "    if row < 1 or col < 1 or row > global_n - 2 or col > global_n - 2:\n",
    "        raise ValueError(\"Index should match an inner node.\")\n",
    "    inner_index = (row - 1) * inner_n + (col - 1)\n",
    "    return inner_index\n",
    "\n",
    "# q == 0.5\n",
    "def get_game(index, w, epsilon):\n",
    "    game = np.zeros((2, 2))\n",
    "    game[0, 0] = compute_a11(index, w, epsilon)\n",
    "    game[0, 1] = compute_a12(index, w, epsilon)\n",
    "    game[1, 0] = compute_a21(index, w, epsilon)\n",
    "    game[1, 1] = compute_a22(index, w, epsilon)\n",
    "    return game\n",
    "\n",
    "# Up\n",
    "def compute_a11(index, w, epsilon):\n",
    "    if (index - n) in border_cases:\n",
    "        a11 = 1\n",
    "    else:\n",
    "        a11 = w[global_N_to_inner_n(index - n, inner_n, n)] + 1 + epsilon\n",
    "    return a11\n",
    "    \n",
    "# Down\n",
    "def compute_a21(index, w, epsilon):\n",
    "    if (index + n) in border_cases:\n",
    "        a12 = 1\n",
    "    else:\n",
    "        a12 = w[global_N_to_inner_n(index + n, inner_n, n)] + 1 + epsilon\n",
    "    return a12\n",
    "\n",
    "# Right\n",
    "def compute_a12(index, w, epsilon):\n",
    "    if (index + 1) in border_cases:\n",
    "        a21 = 1\n",
    "    else:\n",
    "        a21 = w[global_N_to_inner_n(index + 1, inner_n, n)] + 1 + epsilon\n",
    "    return a21\n",
    "\n",
    "# Left\n",
    "def compute_a22(index, w, epsilon):\n",
    "    if (index - 1) in border_cases:\n",
    "        a22 = 1\n",
    "    else:\n",
    "        a22 = w[global_N_to_inner_n(index - 1, inner_n, n)] + 1 + epsilon\n",
    "    return a22\n",
    "    \n",
    "\n",
    "'''\n",
    "    Number of values in w should match number of equations.\n",
    "'''\n",
    "def prepare_equations(w, epsilon):\n",
    "    eqs = np.zeros(len(w))\n",
    "    p1s = []\n",
    "    q1s = []\n",
    "    for i in range(len(w)):\n",
    "        index = inner_n_to_global_N(i, inner_n, n)\n",
    "        game_mx = get_game(index, w, epsilon)\n",
    "        \n",
    "        v, p1 = get_value(game_mx)\n",
    "        q1 = 0.5\n",
    "\n",
    "        p1s.append(p1)\n",
    "        q1s.append(q1)\n",
    "        eqs[i] = w[i] - v\n",
    "\n",
    "    return tuple(eqs)"
   ]
  },
  {
   "cell_type": "code",
   "execution_count": 4,
   "metadata": {},
   "outputs": [],
   "source": [
    "from scipy.optimize import fsolve\n",
    "\n",
    "epsilon_values = np.arange(0.01, 0.71, 0.01)\n",
    "w_new_list = []\n",
    "for epsilon in epsilon_values:\n",
    "    message = \"\"\n",
    "    while (message != \"The solution converged.\"):\n",
    "        starting_params = np.random.random(inner_n ** 2) * (inner_n - 2) ** 2\n",
    "        w_new, _, _, message  = fsolve(lambda w: prepare_equations(w, epsilon), tuple(starting_params), full_output=True)\n",
    "    w_new_list.append(w_new)\n",
    "    starting_params, message"
   ]
  },
  {
   "cell_type": "code",
   "execution_count": null,
   "metadata": {},
   "outputs": [],
   "source": [
    "starting_params[112]"
   ]
  },
  {
   "cell_type": "code",
   "execution_count": 6,
   "metadata": {},
   "outputs": [
    {
     "data": {
      "text/plain": [
       "(133.28, 381.800092771937)"
      ]
     },
     "execution_count": 6,
     "metadata": {},
     "output_type": "execute_result"
    }
   ],
   "source": [
    "(inner_n - 1) ** 2 * 0.68, w_new.reshape(inner_n, inner_n)[inner_n // 2, inner_n // 2]"
   ]
  },
  {
   "cell_type": "code",
   "execution_count": 7,
   "metadata": {},
   "outputs": [],
   "source": [
    "step = 0\n",
    "p1s = [[] for _ in range(len(epsilon_values))]\n",
    "q1s = [[] for _ in range(len(epsilon_values))]\n",
    "vs = [[] for _ in range(len(epsilon_values))]\n",
    "for epsilon in epsilon_values:\n",
    "    for i in range(len(w_new)):\n",
    "        index = inner_n_to_global_N(i, inner_n, n)\n",
    "        game_mx = get_game(index, w_new_list[step], epsilon)\n",
    "        \n",
    "        v, p1 = get_value(game_mx)\n",
    "        q1 = 0.5\n",
    "\n",
    "        p1s[step].append(p1)\n",
    "        q1s[step].append(q1)\n",
    "        vs[step].append(v)\n",
    "    step += 1"
   ]
  },
  {
   "cell_type": "code",
   "execution_count": null,
   "metadata": {},
   "outputs": [],
   "source": [
    "step = 0\n",
    "file = open(\"D:\\RW\\\\RWAnalyzer\\\\output\\\\const\\\\try_1\\\\absorption_time.txt\", \"w\")\n",
    "for epsilon in epsilon_values:\n",
    "    fig, ax = plt.subplots(1, 1, figsize=(15, 15))\n",
    "    a = ax.imshow(np.reshape(vs[step], newshape=(inner_n, inner_n)))\n",
    "    fig.colorbar(a)\n",
    "    for (j, i), label in np.ndenumerate(np.reshape(vs[step], newshape=(inner_n, inner_n))):\n",
    "        #print_str_1 = \"↑→\" if np.isclose(label, 1) else \"\"\n",
    "        #print_str_2 = \"↓←\" if np.isclose(label, 0) else \"\"\n",
    "        if i == 7 and j == 7:\n",
    "            file.write(f\"{label:.2f} \")\n",
    "        ax.text(i, j, f\"{label:.2f} \", ha='center', va='center')\n",
    "        ax.text(i, j, f\"{label:.2f} \", ha='center', va='center')\n",
    "        #print(label)\n",
    "    ax.set_title(\"Mean absorption time\")\n",
    "    str_ = \"pvb_strategy_\" + str(epsilon) + \".png\"\n",
    "    fig.savefig(\"D:\\RW\\\\RWAnalyzer\\\\output\\\\const\\\\try_1\\\\1\\\\\" + str_)\n",
    "    plt.close()\n",
    "    step += 1\n",
    "file.close()"
   ]
  },
  {
   "cell_type": "code",
   "execution_count": 9,
   "metadata": {},
   "outputs": [],
   "source": [
    "border_color_3 = np.array([204, 153, 255]) / 255.0\n",
    "border_color_2 = np.array([178, 102, 255]) / 255.0\n",
    "border_color_1 = np.array([141, 29, 255]) / 255.0\n",
    "white_color = np.array([255, 255, 255]) / 255.0\n",
    "center_color_1 = np.array([255, 202, 26]) / 255.0\n",
    "center_color_2 = np.array([255, 219, 102]) / 255.0\n",
    "center_color_3 = np.array([255, 231, 153]) / 255.0\n",
    "rwgame_cmap = mcolors.LinearSegmentedColormap.from_list(\n",
    "        'rwgame', [border_color_1, border_color_2, border_color_3, white_color, center_color_3, center_color_2, center_color_1])"
   ]
  },
  {
   "cell_type": "code",
   "execution_count": null,
   "metadata": {},
   "outputs": [],
   "source": [
    "step = 0\n",
    "for epsilon in epsilon_values:\n",
    "        font = {'family' : 'normal',\n",
    "                'size'   : 5}\n",
    "\n",
    "        mpl.rc('font', **font)\n",
    "\n",
    "        fig, ax = plt.subplots(1, 1, dpi=300)\n",
    "        ax.invert_yaxis()\n",
    "        ax.xaxis.set_visible(False)\n",
    "        ax.yaxis.set_visible(False)\n",
    "        a = ax.imshow(np.reshape(p1s[step], newshape=(inner_n, inner_n)), cmap=rwgame_cmap)\n",
    "        ax.plot()\n",
    "\n",
    "        for (j, i), label in np.ndenumerate(np.reshape(p1s[step], newshape=(inner_n, inner_n))):\n",
    "                print_str_1 = \"\\n↑→\" if np.isclose(label, 1) else \"\"\n",
    "                print_str_2 = \"\\n↓←\" if np.isclose(label, 0) else \"\"\n",
    "                plt.text(i, j, f\"{label:.2f} \" + print_str_1 + print_str_2, ha='center', va='center')\n",
    "                plt.text(i, j, f\"{label:.2f} \" + print_str_1 + print_str_2, ha='center', va='center')\n",
    "\n",
    "        font = {'family' : 'normal',\n",
    "                'size'   : 8}\n",
    "        mpl.rc('font', **font)\n",
    "\n",
    "        cbar = fig.colorbar(a)\n",
    "        cbar.ax.text(4, 1, '↑→', ha='center', va='center')\n",
    "        cbar.ax.text(4, 0, '↓←', ha='center', va='center')\n",
    "\n",
    "        ax.set_title(\"Вероятность игрока \\\"за центр\\\" выбрать 1 стратегию.\")\n",
    "        str_ = \"pvb_2_strategy_\" + str(epsilon) + \".png\"\n",
    "        fig.savefig(\"D:\\RW\\\\RWAnalyzer\\\\output\\\\const\\\\try_1\\\\3\\\\\" + str_)\n",
    "        plt.close()\n",
    "        #fig.savefig(\"G:\\Studies\\Masters\\img\\\\pvb_strategy.png\")\n",
    "        step += 1"
   ]
  },
  {
   "cell_type": "code",
   "execution_count": null,
   "metadata": {},
   "outputs": [],
   "source": [
    "step = 0\n",
    "for epsilon in epsilon_values:\n",
    "    fig, ax = plt.subplots(1, 1, figsize=(15, 15))\n",
    "    a = ax.imshow(np.reshape(q1s[step], newshape=(inner_n, inner_n)))\n",
    "    fig.colorbar(a)\n",
    "\n",
    "    for (j, i), label in np.ndenumerate(np.reshape(q1s[step], newshape=(inner_n, inner_n))):\n",
    "        print_str_1 = \"↑→\" if np.isclose(label, 1) else \"\"\n",
    "        print_str_2 = \"↓←\" if np.isclose(label, 0) else \"\"\n",
    "        plt.text(i, j, f\"{label:.2f} \" + print_str_1 + print_str_2, ha='center', va='center')\n",
    "        plt.text(i, j, f\"{label:.2f} \" + print_str_1 + print_str_2, ha='center', va='center')\n",
    "    ax.set_title(\"Вероятность игрока \\\"за границу\\\" выбрать 1 стратегию.\")\n",
    "    str_ = \"pvb_strategy_\" + str(epsilon) + \".png\"\n",
    "    fig.savefig(\"D:\\RW\\\\RWAnalyzer\\\\output\\\\const\\\\try_1\\\\2\\\\\" + str_)\n",
    "    plt.close()\n",
    "    #fig.savefig(\"G:\\Studies\\Masters\\img\\\\pvb_2_strategy.png\")\n",
    "    step += 1\n"
   ]
  },
  {
   "cell_type": "code",
   "execution_count": null,
   "metadata": {},
   "outputs": [],
   "source": []
  }
 ],
 "metadata": {
  "kernelspec": {
   "display_name": "mlunn2",
   "language": "python",
   "name": "python3"
  },
  "language_info": {
   "codemirror_mode": {
    "name": "ipython",
    "version": 3
   },
   "file_extension": ".py",
   "mimetype": "text/x-python",
   "name": "python",
   "nbconvert_exporter": "python",
   "pygments_lexer": "ipython3",
   "version": "3.12.2"
  },
  "orig_nbformat": 4,
  "vscode": {
   "interpreter": {
    "hash": "7906f88924d0acbcc878920ce9dbcc77a020e1b0135b8245f9ac081820afa623"
   }
  }
 },
 "nbformat": 4,
 "nbformat_minor": 2
}
