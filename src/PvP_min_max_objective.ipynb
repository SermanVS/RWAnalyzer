{
 "cells": [
  {
   "cell_type": "code",
   "execution_count": 1,
   "metadata": {},
   "outputs": [
    {
     "name": "stdout",
     "output_type": "stream",
     "text": [
      "10.384615384615383\n"
     ]
    }
   ],
   "source": [
    "import numpy as np\n",
    "from numba import njit\n",
    "\n",
    "def get_mean_time(M, fundamental_matrix):\n",
    "    c = np.ones(fundamental_matrix.shape[0])\n",
    "    mean_times = fundamental_matrix @ c\n",
    "    return mean_times[M * (M // 2) + M // 2]\n",
    "\n",
    "def get_fundamental_matrix(Q):\n",
    "    return np.linalg.inv(np.eye(Q.shape[0]) - Q)\n",
    "\n",
    "@njit\n",
    "def make_prob_matrix(M, strategy_center, strategy_border):\n",
    "    probabilities = np.zeros((M ** 2, M ** 2))\n",
    "    for x in range(0, M):\n",
    "        for y in range(0, M):\n",
    "            pc = strategy_center[x, y]\n",
    "            pb = strategy_border[x, y]\n",
    "            if y + 1 < M:\n",
    "                probabilities[M * x + y, M * (x + 0) + (y + 1)] = (1 - pc) * pb\n",
    "            if y - 1 >= 0:\n",
    "                probabilities[M * x + y, M * (x + 0) + (y - 1)] = pc * pb\n",
    "            if x + 1 < M:\n",
    "                probabilities[M * x + y, M * (x + 1) + (y + 0)] = pc * (1 - pb)\n",
    "            if x - 1 >= 0:\n",
    "                probabilities[M * x + y, M * (x - 1) + (y + 0)] = (1 - pc) * (1 - pb)\n",
    "    \n",
    "    return probabilities\n",
    "\n",
    "def objective_function(strategy_center, strategy_border, M):\n",
    "    probability_matrix = make_prob_matrix(M, strategy_center, strategy_border)\n",
    "    fundamental_matrix = get_fundamental_matrix(probability_matrix)\n",
    "    mean_time = get_mean_time(M, fundamental_matrix)\n",
    "    return mean_time\n",
    "\n",
    "def objective_function_1d(strategy_center_1d, strategy_border_1d, M):\n",
    "    return objective_function(np.reshape(strategy_center_1d, (M, M)), np.reshape(strategy_border_1d, (M, M)), M)\n",
    "    \n",
    "\n",
    "'''\n",
    "Problem:\n",
    "max by strategy_center\n",
    "    min by strategy_border\n",
    "        objective_function(strategy_center, strategy_border)\n",
    "N = const = 16 - the size of problem\n",
    "'''\n",
    "\n",
    "N = 6\n",
    "M = N - 1\n",
    "\n",
    "strategy_center = np.ones ((M, M), dtype=np.float64) * 0.5\n",
    "strategy_border = np.ones ((M, M), dtype=np.float64) * 0.5\n",
    "\n",
    "# 75.20846497681381\n",
    "print(objective_function(strategy_center, strategy_border, M))"
   ]
  },
  {
   "cell_type": "code",
   "execution_count": 2,
   "metadata": {},
   "outputs": [],
   "source": [
    "strategy_center_0 = np.ones ((M, M), dtype=np.float64) * 0.5\n",
    "strategy_border_0 = np.ones ((M, M), dtype=np.float64) * 0.5"
   ]
  },
  {
   "cell_type": "code",
   "execution_count": 3,
   "metadata": {},
   "outputs": [
    {
     "name": "stdout",
     "output_type": "stream",
     "text": [
      "(50,)\n"
     ]
    },
    {
     "data": {
      "application/vnd.jupyter.widget-view+json": {
       "model_id": "5a514da10b5544988ad0de331182c11c",
       "version_major": 2,
       "version_minor": 0
      },
      "text/plain": [
       "0it [00:00, ?it/s]"
      ]
     },
     "metadata": {},
     "output_type": "display_data"
    }
   ],
   "source": [
    "from scipy.optimize import minimize\n",
    "from tqdm.notebook import tqdm\n",
    "from functools import partial\n",
    "\n",
    "bound = (0, 1)\n",
    "\n",
    "def step_optimize(res, func, progress):\n",
    "    #f = func(res)\n",
    "    #progress.set_description(f\"{-f:0.5f}\")\n",
    "    #progress.update(1)\n",
    "    if not progress is None:\n",
    "        f, mn, mx = func(res, need_all=True)\n",
    "        progress.set_description(f\"{f:0.5f} | mn = {mn:0.5f} | mx = {mx:0.5f}\")\n",
    "        progress.update(1)\n",
    "\n",
    "def max_objective(strategy_border, M):\n",
    "    x0 = strategy_center_0.flatten()\n",
    "    #progress = tqdm(mininterval=1)\n",
    "    try:\n",
    "        def max_func(x):\n",
    "            return -objective_function(np.reshape(x, (M, M)), strategy_border, M)\n",
    "        bounds = [bound for i in range(M * M)]\n",
    "        res = minimize(max_func, x0, bounds=bounds, method='Powell', tol=1e-6)\n",
    "        #, callback=partial(step_optimize, func=max_func, progress=progress)\n",
    "    finally:\n",
    "        #progress.close()\n",
    "        pass\n",
    "    return -res.fun\n",
    "\n",
    "def min_objective(strategy_center, M):\n",
    "    x0 = strategy_border_0.flatten()\n",
    "    #progress = tqdm(mininterval=1)\n",
    "    try:\n",
    "        def min_func(x):\n",
    "            return objective_function(strategy_center, np.reshape(x, (M, M)), M)\n",
    "        bounds = [bound for i in range(M * M)]\n",
    "        res = minimize(min_func, x0, bounds=bounds, method='Powell', tol=1e-6)\n",
    "        #, callback=partial(step_optimize, func=min_func, progress=progress)\n",
    "    finally:\n",
    "        #progress.close()\n",
    "        pass\n",
    "    return res.fun\n",
    "\n",
    "def min_dist():\n",
    "    x0 = np.concatenate([strategy_center.flatten(), strategy_border.flatten()])\n",
    "    print(x0.shape)\n",
    "    progress = tqdm(mininterval=1)\n",
    "    try:\n",
    "        def min_max_fun(x, need_all=False):\n",
    "            strategy_center = np.reshape(x[:M * M], (M, M))\n",
    "            strategy_border = np.reshape(x[-M * M:], (M, M))\n",
    "            mx = max_objective(strategy_border, M)\n",
    "            mn = min_objective(strategy_center, M)\n",
    "            if need_all:\n",
    "                return mx - mn, mn, mx\n",
    "            else:\n",
    "                return mx - mn\n",
    "            \n",
    "        bounds = [bound for i in range(2 * M * M)]\n",
    "        res = minimize(min_max_fun, x0, bounds=bounds, method='Powell', tol=1e-6, callback=partial(step_optimize, func=min_max_fun, progress=progress))\n",
    "    finally:\n",
    "        progress.close()\n",
    "    return res\n",
    "res = min_dist()\n",
    "#max_objective(strategy_border, M)\n",
    "#min_objective(strategy_center, M)\n",
    "#res = minimize(lambda x: objective_function(x[0], x[1], M), x0, method='Nelder-Mead', tol=1e-6)"
   ]
  },
  {
   "cell_type": "code",
   "execution_count": 4,
   "metadata": {},
   "outputs": [
    {
     "data": {
      "text/plain": [
       "<AxesSubplot:>"
      ]
     },
     "execution_count": 4,
     "metadata": {},
     "output_type": "execute_result"
    },
    {
     "data": {
      "image/png": "[encoded data removed]",
      "text/plain": [
       "<Figure size 432x288 with 2 Axes>"
      ]
     },
     "metadata": {
      "needs_background": "light"
     },
     "output_type": "display_data"
    },
    {
     "data": {
      "image/png": "[encoded data removed]",
      "text/plain": [
       "<Figure size 432x288 with 2 Axes>"
      ]
     },
     "metadata": {
      "needs_background": "light"
     },
     "output_type": "display_data"
    }
   ],
   "source": [
    "strategy_center = np.reshape(res.x[:M * M], (M, M))\n",
    "strategy_border = np.reshape(res.x[-M * M:], (M, M))\n",
    "import matplotlib.pyplot as plt\n",
    "import seaborn as sns\n",
    "plt.figure()\n",
    "sns.heatmap(strategy_center, annot=True, fmt=\"0.2f\", vmin=0, vmax=1)\n",
    "\n",
    "plt.figure()\n",
    "sns.heatmap(strategy_border, annot=True, fmt=\"0.2f\", vmin=0, vmax=1)"
   ]
  },
  {
   "cell_type": "code",
   "execution_count": 21,
   "metadata": {},
   "outputs": [
    {
     "name": "stdout",
     "output_type": "stream",
     "text": [
      "12106879.998128386\n",
      "49\n"
     ]
    },
    {
     "data": {
      "application/vnd.jupyter.widget-view+json": {
       "model_id": "8193e609545b430d8e14e177cf06369f",
       "version_major": 2,
       "version_minor": 0
      },
      "text/plain": [
       "0it [00:00, ?it/s]"
      ]
     },
     "metadata": {},
     "output_type": "display_data"
    },
    {
     "data": {
      "application/vnd.jupyter.widget-view+json": {
       "model_id": "8dfc7acc1aa5447e8e27dc98ba755538",
       "version_major": 2,
       "version_minor": 0
      },
      "text/plain": [
       "0it [00:00, ?it/s]"
      ]
     },
     "metadata": {},
     "output_type": "display_data"
    },
    {
     "data": {
      "text/plain": [
       "   direc: array([[ 3.55940959e-10,  5.45501314e-10],\n",
       "       [-3.36399119e-12,  5.09502642e-15]])\n",
       "     fun: 2.6645352591003757e-15\n",
       " message: 'Optimization terminated successfully.'\n",
       "    nfev: 773\n",
       "     nit: 5\n",
       "  status: 0\n",
       " success: True\n",
       "       x: array([0.29843788, 0.29843788])"
      ]
     },
     "execution_count": 21,
     "metadata": {},
     "output_type": "execute_result"
    }
   ],
   "source": [
    "import numpy as np\n",
    "from PvP_min_max_symm_objective import objective_function\n",
    "N = 4\n",
    "M = N - 1\n",
    "dtype = np.float64\n",
    "cnt = (M ** 2 - 1) // 4 - M // 2\n",
    "\n",
    "strategy_center_flat = np.ones(cnt, dtype=dtype) * 0.5\n",
    "strategy_border_flat = np.ones(cnt, dtype=dtype) * 0.5\n",
    "\n",
    "def objective_function_except(*arg, **argw):\n",
    "    try:\n",
    "        fun = objective_function(*arg, **argw)\n",
    "        if np.isnan(fun):\n",
    "            print()\n",
    "            print('BUG NAN!!!')\n",
    "            print(arg, argw) \n",
    "            print(arg[0].dtype, arg[1].dtype, arg[0].shape, arg[1].shape)\n",
    "            print(fun)\n",
    "            print()\n",
    "        return fun\n",
    "    except Exception as e:\n",
    "        print('BUG2!!!')\n",
    "        print(e)\n",
    "        print(arg, argw)\n",
    "        return np.nan\n",
    "\n",
    "\n",
    "from scipy.optimize import minimize\n",
    "from tqdm.notebook import tqdm\n",
    "from functools import partial\n",
    "\n",
    "def step_optimize(res, func, progress=None):\n",
    "    if not progress is None:\n",
    "        f, mn, mx = func(res, need_all=True)\n",
    "        progress.set_description(f\"{f:0.5f} | mn = {mn:0.5f} | mx = {mx:0.5f}\")\n",
    "        progress.update(1)\n",
    "\n",
    "\n",
    "progress_inner = tqdm(mininterval=1)\n",
    "\n",
    "bound = (0, 1)\n",
    "\n",
    "def max_objective(strategy_center_0, strategy_border, M):\n",
    "    x0 = strategy_center_0\n",
    "    #try:\n",
    "    def max_func(x):\n",
    "        return -objective_function_except(x, strategy_border, M)\n",
    "    bounds = [bound for i in range(len(x0))]\n",
    "    res = minimize(max_func, x0, bounds=bounds, method='Powell', tol=1e-6, options={'maxiter':1000})\n",
    "    if np.isnan(res.fun):\n",
    "        fun = max_func(res.x)\n",
    "        if np.isnan(fun):\n",
    "            print(fun, res.x, M)\n",
    "        res.fun = fun\n",
    "    if np.isnan(res.fun):\n",
    "        print('Max BUG!!!!!!!')\n",
    "        print(res.x, strategy_border)\n",
    "    #, callback=partial(step_optimize, func=max_func, progress=progress_inner)\n",
    "    #finally:\n",
    "        #progress.close()\n",
    "    return res.fun, res\n",
    "\n",
    "def min_objective(strategy_center, strategy_border_0, M):\n",
    "    x0 = strategy_border_0\n",
    "    #progress = tqdm(mininterval=1)\n",
    "    #try:\n",
    "    def min_func(x):\n",
    "        return objective_function_except(strategy_center, x, M)\n",
    "    bounds = [bound for i in range(len(x0))]\n",
    "    res = minimize(min_func, x0, bounds=bounds, method='Powell', tol=1e-6, options={'maxiter':1000})\n",
    "    if np.isnan(res.fun):\n",
    "        res.fun = min_func(res.x)\n",
    "    if np.isnan(res.fun):\n",
    "        print('Min BUG!!!!!!!')\n",
    "        print(strategy_center, res.x)\n",
    "    #, callback=partial(step_optimize, func=min_func, progress=progress)\n",
    "    #finally:\n",
    "    #    progress.close()\n",
    "    return res.fun, res\n",
    "\n",
    "def min_dist(strategy_center_flat, strategy_border_flat):\n",
    "    x0 = np.concatenate([strategy_center_flat, strategy_border_flat])\n",
    "    progress = tqdm(mininterval=1)\n",
    "    try:\n",
    "        def min_max_fun(x, need_all=False):\n",
    "            strategy_center = x[:cnt]\n",
    "            strategy_border = x[-cnt:]\n",
    "            #mx, res1 = max_objective(strategy_border, M)\n",
    "            #mn, res2 = min_objective(strategy_center, M)\n",
    "\n",
    "            mx, res1 = random_search(max_objective, M, num_iter=1, strategy_center=None, strategy_border=strategy_border)\n",
    "            mn, res2 = random_search(min_objective, M, num_iter=1, strategy_center=strategy_center, strategy_border=None)\n",
    "\n",
    "            '''print()\n",
    "            print('#' * 20)\n",
    "            print(strategy_border)\n",
    "            print(res1)\n",
    "            print(strategy_center)\n",
    "            print(res2)\n",
    "            print(mx - mn, mn, mx)'''\n",
    "            if need_all:\n",
    "                return -mx - mn, mn, mx\n",
    "            else:\n",
    "                return -mx - mn\n",
    "        bounds = [bound for i in range(len(x0))]\n",
    "        res = minimize(min_max_fun, x0, bounds=bounds, method='Powell', #\n",
    "                        tol=1e-10, options={'maxiter':10000}, callback=partial(step_optimize, func=min_max_fun, progress=progress))\n",
    "        if np.isnan(res.fun):\n",
    "            res.fun = min_max_fun(res.x)\n",
    "    finally:\n",
    "        progress.close()\n",
    "    return res\n",
    "\n",
    "def random_search(opt_func, M, num_iter=100, strategy_center=None, strategy_border=None):\n",
    "    ans = None\n",
    "    #print(strategy_center, strategy_border)\n",
    "    for i in range(num_iter):\n",
    "        if strategy_center is None:\n",
    "            strategy_center_0 = np.random.uniform(low=bound[0], high=bound[1], size=cnt)\n",
    "        else:\n",
    "            strategy_center_0 = strategy_center\n",
    "        if strategy_border is None:\n",
    "            strategy_border_0 = np.random.uniform(low=bound[0], high=bound[1], size=cnt)\n",
    "        else:\n",
    "            strategy_border_0 = strategy_border\n",
    "        #print(strategy_center_0, strategy_border_0)\n",
    "        val, res = opt_func(strategy_center_0, strategy_border_0, M)\n",
    "        #print(strategy_center_0, strategy_border_0, val)\n",
    "        if ans is None:\n",
    "            ans = res\n",
    "        elif ans.fun > res.fun:\n",
    "            ans = res\n",
    "    return ans.fun, ans\n",
    "\n",
    "\n",
    "def random_search_all(num_iter):\n",
    "    ans = None\n",
    "    for i in range(num_iter):\n",
    "        strategy_center_flat = np.random.uniform(low=bound[0], high=bound[1], size=cnt)\n",
    "        strategy_border_flat = np.random.uniform(low=bound[0], high=bound[1], size=cnt)\n",
    "        res = min_dist(strategy_center_flat, strategy_border_flat)\n",
    "        if ans is None:\n",
    "            ans = res\n",
    "        elif ans.fun > res.fun:\n",
    "            ans = res\n",
    "    return ans\n",
    "# Nelder-Mead, L-BFGS-B, TNC, SLSQP, Powell\n",
    "res = random_search_all(num_iter=1)\n",
    "res\n",
    "#max_objective(strategy_border, M)\n",
    "#min_objective(strategy_center, M)\n",
    "#res = minimize(lambda x: objective_function(x[0], x[1], M), x0, method='Nelder-Mead', tol=1e-6)"
   ]
  },
  {
   "cell_type": "code",
   "execution_count": 26,
   "metadata": {},
   "outputs": [
    {
     "data": {
      "text/plain": [
       "Text(0.5, 1.0, 'strategy border')"
      ]
     },
     "execution_count": 26,
     "metadata": {},
     "output_type": "execute_result"
    },
    {
     "data": {
      "image/png": "[encoded data removed]",
      "text/plain": [
       "<Figure size 432x288 with 2 Axes>"
      ]
     },
     "metadata": {
      "needs_background": "light"
     },
     "output_type": "display_data"
    },
    {
     "data": {
      "image/png": "[encoded data removed]",
      "text/plain": [
       "<Figure size 432x288 with 2 Axes>"
      ]
     },
     "metadata": {
      "needs_background": "light"
     },
     "output_type": "display_data"
    }
   ],
   "source": [
    "from PvP_min_max_symm_objective import prepare_matrix\n",
    "import numpy as np\n",
    "x = res.x\n",
    "strategy_center_flat = x[:cnt]\n",
    "strategy_border_flat = x[-cnt:]\n",
    "strategy_center, strategy_border = prepare_matrix(strategy_center_flat, strategy_border_flat, M)\n",
    "\n",
    "import matplotlib.pyplot as plt\n",
    "import seaborn as sns\n",
    "plt.figure()\n",
    "sns.heatmap(strategy_center, annot=True, fmt=\"0.2f\", vmin=0, vmax=1)\n",
    "plt.title('strategy center')\n",
    "\n",
    "plt.figure()\n",
    "sns.heatmap(strategy_border, annot=True, fmt=\"0.2f\", vmin=0, vmax=1)\n",
    "plt.title('strategy border')\n"
   ]
  },
  {
   "cell_type": "code",
   "execution_count": 25,
   "metadata": {},
   "outputs": [
    {
     "data": {
      "image/png": "[encoded data removed]",
      "text/plain": [
       "<Figure size 432x288 with 2 Axes>"
      ]
     },
     "metadata": {
      "needs_background": "light"
     },
     "output_type": "display_data"
    }
   ],
   "source": [
    "from PvP_min_max_symm_objective import objective_function\n",
    "import matplotlib.pyplot as plt\n",
    "import seaborn as sns\n",
    "\n",
    "x = np.linspace(0, 1, 100)\n",
    "y = np.linspace(0, 1, 100)\n",
    "f = np.zeros((100, 100))\n",
    "for i in range(len(x)):\n",
    "    for j in range(len(y)):\n",
    "        try:\n",
    "            f[i, j] = objective_function(np.array([y[j]]), np.array([x[i]]), M)\n",
    "        except:\n",
    "            f[i, j] = np.nan\n",
    "\n",
    "num_ticks = 11\n",
    "yticks = np.linspace(0, len(y) - 1, num_ticks, dtype=int)\n",
    "yticklabels = [f'{y[idx]:0.2f}' for idx in yticks]\n",
    "xticks = np.linspace(0, len(x) - 1, num_ticks, dtype=int)\n",
    "xticklabels = [f'{x[idx]:0.2f}' for idx in xticks]\n",
    "\n",
    "ax = sns.heatmap(f, vmin=0, vmax=10)\n",
    "ax.set_xticks(xticks)\n",
    "ax.set_yticks(yticks)\n",
    "ax.set_xticklabels(xticklabels)\n",
    "ax.set_yticklabels(yticklabels)\n",
    "\n",
    "ax.scatter(0.3 * (len(x) - 1), 0.3 * (len(y) - 1), marker='.', s=100, color='white') \n",
    "ax.set_ylabel('border')\n",
    "ax.set_xlabel('center')\n",
    "pass"
   ]
  },
  {
   "cell_type": "code",
   "execution_count": 19,
   "metadata": {},
   "outputs": [
    {
     "name": "stdout",
     "output_type": "stream",
     "text": [
      "5.326086956521739  final_simplex: (array([[0.1],\n",
      "       [0.1]]), array([5.32608696, 5.32608696]))\n",
      "           fun: 5.326086956521739\n",
      "       message: 'Optimization terminated successfully.'\n",
      "          nfev: 12\n",
      "           nit: 6\n",
      "        status: 0\n",
      "       success: True\n",
      "             x: array([0.1])\n"
     ]
    },
    {
     "data": {
      "image/png": "[encoded data removed]",
      "text/plain": [
       "<Figure size 432x288 with 1 Axes>"
      ]
     },
     "metadata": {
      "needs_background": "light"
     },
     "output_type": "display_data"
    }
   ],
   "source": [
    "x = np.linspace(0, 1, 100)\n",
    "y = 0.1\n",
    "f = np.zeros(100)\n",
    "for i in range(len(x)):\n",
    "    try:\n",
    "        f[i] = objective_function(np.array([y]), np.array([x[i]]), M)\n",
    "    except:\n",
    "        f[i] = np.nan\n",
    "\n",
    "plt.plot(x, f)\n",
    "mx, res1 = random_search(max_objective, M, num_iter=1, strategy_center=None, strategy_border=np.array([0.1]))\n",
    "#print(mx, res1)\n",
    "mn, res2 = random_search(min_objective, M, num_iter=1, strategy_center=[0.1], strategy_border=None)\n",
    "print(mn, res2)"
   ]
  },
  {
   "cell_type": "code",
   "execution_count": 31,
   "metadata": {},
   "outputs": [
    {
     "data": {
      "text/plain": [
       "5.0"
      ]
     },
     "execution_count": 31,
     "metadata": {},
     "output_type": "execute_result"
    }
   ],
   "source": [
    "objective_function(np.array([0]), np.array([0]), M)"
   ]
  },
  {
   "cell_type": "code",
   "execution_count": 16,
   "metadata": {},
   "outputs": [
    {
     "data": {
      "text/plain": [
       "[<matplotlib.lines.Line2D at 0x1d59854d7c0>]"
      ]
     },
     "execution_count": 16,
     "metadata": {},
     "output_type": "execute_result"
    },
    {
     "data": {
      "image/png": "[encoded data removed]",
      "text/plain": [
       "<Figure size 432x288 with 1 Axes>"
      ]
     },
     "metadata": {
      "needs_background": "light"
     },
     "output_type": "display_data"
    }
   ],
   "source": [
    "y = np.linspace(0, 1, 100)\n",
    "x = 0.35311359\n",
    "x = 0.29843788\n",
    "x = 0.1\n",
    "f = np.zeros(100)\n",
    "for i in range(len(y)):\n",
    "    try:\n",
    "        f[i] = objective_function(np.array([y[i]]), np.array([x]), M)\n",
    "    except:\n",
    "        f[i] = np.nan\n",
    "\n",
    "plt.plot(y, f)\n"
   ]
  }
 ],
 "metadata": {
  "interpreter": {
   "hash": "b3ba2566441a7c06988d0923437866b63cedc61552a5af99d1f4fb67d367b25f"
  },
  "kernelspec": {
   "display_name": "Python 3.8.8 ('base')",
   "language": "python",
   "name": "python3"
  },
  "language_info": {
   "codemirror_mode": {
    "name": "ipython",
    "version": 3
   },
   "file_extension": ".py",
   "mimetype": "text/x-python",
   "name": "python",
   "nbconvert_exporter": "python",
   "pygments_lexer": "ipython3",
   "version": "3.8.8"
  },
  "orig_nbformat": 4
 },
 "nbformat": 4,
 "nbformat_minor": 2
}
